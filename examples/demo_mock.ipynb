{
  "cells": [
    {
      "cell_type": "markdown",
      "metadata": {
        "id": "7QDhxZHFQXRT"
      },
      "source": [
        "**Enable autoreload extension**"
      ]
    },
    {
      "cell_type": "code",
      "execution_count": 1,
      "metadata": {
        "id": "mwKoKF93qDEe"
      },
      "outputs": [],
      "source": [
        "%load_ext autoreload\n",
        "%autoreload 2"
      ]
    },
    {
      "cell_type": "markdown",
      "metadata": {
        "id": "wkR0YvENQni4"
      },
      "source": [
        "**Setup dependencies**"
      ]
    },
    {
      "cell_type": "code",
      "execution_count": null,
      "metadata": {
        "id": "YMorqV-1smSn"
      },
      "outputs": [],
      "source": [
        "!apt-get update --fix-missing\n",
        "!apt-get install -y libspatialindex-dev\n",
        "%pip install eclipse-sumo==1.10.0\n",
        "%env SUMO_HOME=/usr/local/lib/python3.7/dist-packages/sumo\n",
        "!git clone https://github.com/huawei-noah/SMARTS 2> /dev/null"
      ]
    },
    {
      "cell_type": "code",
      "source": [
        "!cd SMARTS && ls && git status && git checkout ipynb-test-deps && git status && pip install .[camera-obs]"
      ],
      "metadata": {
        "id": "n1sQVa5mkMEA"
      },
      "execution_count": null,
      "outputs": []
    },
    {
      "cell_type": "code",
      "source": [
        "import sys\n",
        "sys.path.insert(0, \"./SMARTS/examples/env\")\n",
        "sys.path.insert(0, \"./SMARTS/zoo\")\n",
        "import baseline\n",
        "import policies.keep_lane_agent"
      ],
      "metadata": {
        "id": "ubc6jEAqiCEq"
      },
      "execution_count": 9,
      "outputs": []
    },
    {
      "cell_type": "markdown",
      "metadata": {
        "id": "s7UtcphinvNv"
      },
      "source": [
        "**Import Base Modules**"
      ]
    },
    {
      "cell_type": "code",
      "execution_count": 10,
      "metadata": {
        "id": "HsnDWYx_ngdc"
      },
      "outputs": [],
      "source": [
        "import gym\n",
        "\n",
        "from smarts.zoo import registry\n",
        "from smarts.env.wrappers.single_agent import SingleAgent\n",
        "from smarts.env.wrappers.episode_logger import EpisodeLogger\n",
        "from smarts.env.wrappers.record import RecordVideo, RenderVideo"
      ]
    },
    {
      "cell_type": "markdown",
      "metadata": {
        "id": "LFoG7Z-FobPP"
      },
      "source": [
        "**Run an episode**"
      ]
    },
    {
      "cell_type": "code",
      "execution_count": null,
      "metadata": {
        "id": "BBWj3wbAso3J"
      },
      "outputs": [],
      "source": [
        "from smarts.core.utils.episodes import episode_range\n",
        "\n",
        "#FormatObs should already be applied\n",
        "env = gym.make(\"figure_eight-v0\")\n",
        "env = SingleAgent(env)\n",
        "# gym.wrappers.Monitor\n",
        "env: gym.Env = RecordVideo(env, frequency=10)\n",
        "env: gym.Env = RenderVideo(env)\n",
        "env: gym.Env = EpisodeLogger(env)\n",
        "\n",
        "agent = registry.make_agent(\"zoo.policies:keep_lane_agent\")\n",
        "for episode in episode_range(max_steps=8000):\n",
        "    observation = env.reset()\n",
        "\n",
        "    reward, done, info = None, False, None\n",
        "    while episode.register_step(observation, reward, done, info):\n",
        "        action = agent.act(observation)\n",
        "        observation, reward, done, info = env.step(action)\n",
        "\n",
        "env.close()"
      ]
    }
  ],
  "metadata": {
    "colab": {
      "name": "demo.ipynb",
      "provenance": []
    },
    "kernelspec": {
      "display_name": "Python 3",
      "name": "python3"
    }
  },
  "nbformat": 4,
  "nbformat_minor": 0
}