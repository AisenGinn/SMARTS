{
  "cells": [
    {
      "cell_type": "markdown",
      "metadata": {
        "id": "7QDhxZHFQXRT"
      },
      "source": [
        "**Enable autoreload extension**"
      ]
    },
    {
      "cell_type": "code",
      "execution_count": 1,
      "metadata": {
        "id": "mwKoKF93qDEe"
      },
      "outputs": [],
      "source": [
        "%load_ext autoreload\n",
        "%autoreload 2"
      ]
    },
    {
      "cell_type": "markdown",
      "metadata": {
        "id": "wkR0YvENQni4"
      },
      "source": [
        "**Setup dependencies**"
      ]
    },
    {
      "cell_type": "code",
      "execution_count": null,
      "metadata": {
        "colab": {
          "base_uri": "https://localhost:8080/"
        },
        "id": "YMorqV-1smSn",
        "outputId": "544bfe56-3f8b-40e4-c033-1cdde9e606ac"
      },
      "outputs": [],
      "source": [
        "!apt-get update --fix-missing\n",
        "!apt-get install -y libspatialindex-dev\n",
        "%pip install eclipse-sumo==1.10.0\n",
        "%env SUMO_HOME=/usr/local/lib/python3.7/dist-packages/sumo\n",
        "!git clone https://github.com/huawei-noah/SMARTS 2> /dev/null\n",
        "%pip install SMARTS[camera-obs]"
      ]
    },
    {
      "cell_type": "markdown",
      "metadata": {
        "id": "s7UtcphinvNv"
      },
      "source": [
        "**Import Base Modules**"
      ]
    },
    {
      "cell_type": "code",
      "execution_count": 3,
      "metadata": {
        "id": "HsnDWYx_ngdc"
      },
      "outputs": [],
      "source": [
        "import gym\n",
        "\n",
        "import smarts.env\n",
        "from smarts.zoo import registry\n",
        "from smarts.env.wrappers.single_agent import SingleAgent\n",
        "from smarts.env.wrappers.episode_logger import EpisodeLogger\n",
        "from smarts.env.wrappers.record import RecordVideo, RenderVideo"
      ]
    },
    {
      "cell_type": "markdown",
      "metadata": {
        "id": "LFoG7Z-FobPP"
      },
      "source": [
        "**Run an episode**"
      ]
    },
    {
      "cell_type": "code",
      "execution_count": null,
      "metadata": {
        "colab": {
          "base_uri": "https://localhost:8080/"
        },
        "id": "BBWj3wbAso3J",
        "outputId": "1a75082d-fbbd-4187-fe2e-b09378e69dc5"
      },
      "outputs": [],
      "source": [
        "from smarts.core.utils.episodes import episodes\n",
        "\n",
        "#FormatObs should already be applied\n",
        "env = gym.make(\"figure_eight-v1\")\n",
        "env = SingleAgent(env)\n",
        "# gym.wrappers.Monitor\n",
        "env: gym.Env = RecordVideo(env, step=10)\n",
        "env: gym.Env = RenderVideo(env)\n",
        "env: gym.Env = EpisodeLogger(env)\n",
        "\n",
        "agent = registry.make_agent(\"example-ppo\")\n",
        "for episode in episodes(max_steps=8000):\n",
        "    observation = env.reset()\n",
        "\n",
        "    reward, done, info = None, False, None\n",
        "    while episode.register_step(observation, reward, done, info):\n",
        "        action = agent.act(observation)\n",
        "        observation, reward, done, info = env.step(action)\n",
        "\n",
        "env.close()"
      ]
    }
  ],
  "metadata": {
    "colab": {
      "name": "demo.ipynb",
      "provenance": []
    },
    "kernelspec": {
      "display_name": "Python 3",
      "name": "python3"
    }
  },
  "nbformat": 4,
  "nbformat_minor": 0
}
