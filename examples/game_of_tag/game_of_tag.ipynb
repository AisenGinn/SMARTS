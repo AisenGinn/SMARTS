{
 "cells": [
  {
   "cell_type": "markdown",
   "metadata": {},
   "source": [
    "# Game of Tag"
   ]
  },
  {
   "cell_type": "markdown",
   "metadata": {},
   "source": [
    "## Model Training"
   ]
  },
  {
   "cell_type": "code",
   "execution_count": 1,
   "metadata": {},
   "outputs": [
    {
     "name": "stdout",
     "output_type": "stream",
     "text": [
      "WARNING:tensorflow:From /home/kyber/huawei/SMART_2/SMARTS/.venv/lib/python3.7/site-packages/tensorflow/python/compat/v2_compat.py:107: disable_resource_variables (from tensorflow.python.ops.variable_scope) is deprecated and will be removed in a future version.\n",
      "Instructions for updating:\n",
      "non-resource variables are not supported in the long term\n",
      "pybullet build time: Oct  8 2020 00:10:46\n"
     ]
    },
    {
     "name": "stderr",
     "output_type": "stream",
     "text": [
      "/home/kyber/huawei/SMART_2/SMARTS/smarts/core/agent.py:67: DeprecationWarning: The AgentSpec class has moved to the following module: smarts.zoo.agent_spec. Calling it from this module will be deprecated.\n",
      "  DeprecationWarning,\n"
     ]
    }
   ],
   "source": [
    "\"\"\"Let's play tag!\n",
    "\n",
    "A predator-prey multi-agent example built on top of RLlib to facilitate further\n",
    "developments on multi-agent support for HiWay (including design, performance,\n",
    "research, and scaling).\n",
    "\n",
    "The predator and prey use separate policies. A predator \"catches\" its prey when\n",
    "it collides into the other vehicle. There can be multiple predators and\n",
    "multiple prey in a map. Social vehicles act as obstacles where both the\n",
    "predator and prey must avoid them.\n",
    "\"\"\"\n",
    "from examples.game_of_tag.helper_got import *"
   ]
  },
  {
   "cell_type": "markdown",
   "metadata": {},
   "source": [
    "### Arguments"
   ]
  },
  {
   "cell_type": "code",
   "execution_count": 5,
   "metadata": {},
   "outputs": [],
   "source": [
    "# argument for training\n",
    "senario = \"scenarios/game_of_tag_demo_map/\"\n",
    "resume_training = False\n",
    "result_dir = \"~/ray_results/\""
   ]
  },
  {
   "cell_type": "markdown",
   "metadata": {},
   "source": [
    "### Training and Tuning"
   ]
  },
  {
   "cell_type": "code",
   "execution_count": 6,
   "metadata": {},
   "outputs": [],
   "source": [
    "pbt = PopulationBasedTraining(\n",
    "    time_attr=\"time_total_s\",\n",
    "    metric=\"episode_reward_mean\",\n",
    "    mode = \"max\",\n",
    "    perturbation_interval=300,\n",
    "    resample_probability=0.25,\n",
    "    hyperparam_mutations={\n",
    "        \"lambda\": lambda: random.uniform(0.9, 1.0),\n",
    "        \"clip_param\": lambda: random.uniform(0.01, 0.5),\n",
    "        \"kl_coeff\": lambda: 0.3,\n",
    "        \"lr\": [1e-3],\n",
    "        \"sgd_minibatch_size\": lambda: 128,\n",
    "        \"train_batch_size\": lambda: 4000,\n",
    "        \"num_sgd_iter\": lambda: 30,\n",
    "    },\n",
    "    custom_explore_fn=explore,\n",
    ")\n",
    "\n",
    "local_dir = os.path.expanduser(result_dir)"
   ]
  },
  {
   "cell_type": "code",
   "execution_count": 7,
   "metadata": {},
   "outputs": [
    {
     "data": {
      "text/html": [
       "== Status ==<br>Memory usage on this node: 53.0/2890.0 GiB<br>PopulationBasedTraining: 0 checkpoints, 0 perturbs<br>Resources requested: 4/4 CPUs, 0/0 GPUs, 0.0/2661.91 GiB heap, 0.0/128.52 GiB objects<br>Result logdir: /home/kyber/ray_results/lets_play_tag<br>Number of trials: 1/1 (1 RUNNING)<br><table>\n",
       "<thead>\n",
       "<tr><th>Trial name                   </th><th>status  </th><th>loc  </th><th style=\"text-align: right;\">  clip_param</th><th style=\"text-align: right;\">  kl_coeff</th><th style=\"text-align: right;\">  lambda</th><th style=\"text-align: right;\">   lr</th><th style=\"text-align: right;\">  num_sgd_iter</th><th style=\"text-align: right;\">  sgd_minibatch_size</th><th style=\"text-align: right;\">  train_batch_size</th></tr>\n",
       "</thead>\n",
       "<tbody>\n",
       "<tr><td>PPO_RLlibHiWayEnv_f045d_00000</td><td>RUNNING </td><td>     </td><td style=\"text-align: right;\">     0.40532</td><td style=\"text-align: right;\">       0.3</td><td style=\"text-align: right;\">0.998532</td><td style=\"text-align: right;\">0.001</td><td style=\"text-align: right;\">            30</td><td style=\"text-align: right;\">                 128</td><td style=\"text-align: right;\">              4000</td></tr>\n",
       "</tbody>\n",
       "</table><br><br>"
      ],
      "text/plain": [
       "<IPython.core.display.HTML object>"
      ]
     },
     "metadata": {},
     "output_type": "display_data"
    },
    {
     "ename": "KeyboardInterrupt",
     "evalue": "",
     "output_type": "error",
     "traceback": [
      "\u001b[0;31m---------------------------------------------------------------------------\u001b[0m",
      "\u001b[0;31mKeyboardInterrupt\u001b[0m                         Traceback (most recent call last)",
      "\u001b[0;32m/tmp/ipykernel_58940/1489751258.py\u001b[0m in \u001b[0;36m<module>\u001b[0;34m\u001b[0m\n\u001b[1;32m     18\u001b[0m         \u001b[0mexport_formats\u001b[0m\u001b[0;34m=\u001b[0m\u001b[0;34m[\u001b[0m\u001b[0;34m\"model\"\u001b[0m\u001b[0;34m,\u001b[0m \u001b[0;34m\"checkpoint\"\u001b[0m\u001b[0;34m]\u001b[0m\u001b[0;34m,\u001b[0m\u001b[0;34m\u001b[0m\u001b[0;34m\u001b[0m\u001b[0m\n\u001b[1;32m     19\u001b[0m         \u001b[0mconfig\u001b[0m\u001b[0;34m=\u001b[0m\u001b[0mtune_config\u001b[0m\u001b[0;34m,\u001b[0m\u001b[0;34m\u001b[0m\u001b[0;34m\u001b[0m\u001b[0m\n\u001b[0;32m---> 20\u001b[0;31m         \u001b[0mscheduler\u001b[0m\u001b[0;34m=\u001b[0m\u001b[0mpbt\u001b[0m\u001b[0;34m,\u001b[0m\u001b[0;34m\u001b[0m\u001b[0;34m\u001b[0m\u001b[0m\n\u001b[0m\u001b[1;32m     21\u001b[0m     )\n",
      "\u001b[0;32m~/huawei/SMART_2/SMARTS/.venv/lib/python3.7/site-packages/ray/tune/tune.py\u001b[0m in \u001b[0;36mrun\u001b[0;34m(run_or_experiment, name, metric, mode, stop, time_budget_s, config, resources_per_trial, num_samples, local_dir, search_alg, scheduler, keep_checkpoints_num, checkpoint_score_attr, checkpoint_freq, checkpoint_at_end, verbose, progress_reporter, loggers, log_to_file, trial_name_creator, trial_dirname_creator, sync_config, export_formats, max_failures, fail_fast, restore, server_port, resume, queue_trials, reuse_actors, trial_executor, raise_on_failed_trial, callbacks, ray_auto_init, run_errored_only, global_checkpoint_period, with_server, upload_dir, sync_to_cloud, sync_to_driver, sync_on_checkpoint)\u001b[0m\n\u001b[1;32m    409\u001b[0m     \u001b[0mtune_start\u001b[0m \u001b[0;34m=\u001b[0m \u001b[0mtime\u001b[0m\u001b[0;34m.\u001b[0m\u001b[0mtime\u001b[0m\u001b[0;34m(\u001b[0m\u001b[0;34m)\u001b[0m\u001b[0;34m\u001b[0m\u001b[0;34m\u001b[0m\u001b[0m\n\u001b[1;32m    410\u001b[0m     \u001b[0;32mwhile\u001b[0m \u001b[0;32mnot\u001b[0m \u001b[0mrunner\u001b[0m\u001b[0;34m.\u001b[0m\u001b[0mis_finished\u001b[0m\u001b[0;34m(\u001b[0m\u001b[0;34m)\u001b[0m\u001b[0;34m:\u001b[0m\u001b[0;34m\u001b[0m\u001b[0;34m\u001b[0m\u001b[0m\n\u001b[0;32m--> 411\u001b[0;31m         \u001b[0mrunner\u001b[0m\u001b[0;34m.\u001b[0m\u001b[0mstep\u001b[0m\u001b[0;34m(\u001b[0m\u001b[0;34m)\u001b[0m\u001b[0;34m\u001b[0m\u001b[0;34m\u001b[0m\u001b[0m\n\u001b[0m\u001b[1;32m    412\u001b[0m         \u001b[0;32mif\u001b[0m \u001b[0mverbose\u001b[0m\u001b[0;34m:\u001b[0m\u001b[0;34m\u001b[0m\u001b[0;34m\u001b[0m\u001b[0m\n\u001b[1;32m    413\u001b[0m             \u001b[0m_report_progress\u001b[0m\u001b[0;34m(\u001b[0m\u001b[0mrunner\u001b[0m\u001b[0;34m,\u001b[0m \u001b[0mprogress_reporter\u001b[0m\u001b[0;34m)\u001b[0m\u001b[0;34m\u001b[0m\u001b[0;34m\u001b[0m\u001b[0m\n",
      "\u001b[0;32m~/huawei/SMART_2/SMARTS/.venv/lib/python3.7/site-packages/ray/tune/trial_runner.py\u001b[0m in \u001b[0;36mstep\u001b[0;34m(self)\u001b[0m\n\u001b[1;32m    568\u001b[0m                     trial=next_trial)\n\u001b[1;32m    569\u001b[0m         \u001b[0;32melif\u001b[0m \u001b[0mself\u001b[0m\u001b[0;34m.\u001b[0m\u001b[0mtrial_executor\u001b[0m\u001b[0;34m.\u001b[0m\u001b[0mget_running_trials\u001b[0m\u001b[0;34m(\u001b[0m\u001b[0;34m)\u001b[0m\u001b[0;34m:\u001b[0m\u001b[0;34m\u001b[0m\u001b[0;34m\u001b[0m\u001b[0m\n\u001b[0;32m--> 570\u001b[0;31m             \u001b[0mself\u001b[0m\u001b[0;34m.\u001b[0m\u001b[0m_process_events\u001b[0m\u001b[0;34m(\u001b[0m\u001b[0;34m)\u001b[0m  \u001b[0;31m# blocking\u001b[0m\u001b[0;34m\u001b[0m\u001b[0;34m\u001b[0m\u001b[0m\n\u001b[0m\u001b[1;32m    571\u001b[0m         \u001b[0;32melse\u001b[0m\u001b[0;34m:\u001b[0m\u001b[0;34m\u001b[0m\u001b[0;34m\u001b[0m\u001b[0m\n\u001b[1;32m    572\u001b[0m             \u001b[0mself\u001b[0m\u001b[0;34m.\u001b[0m\u001b[0mtrial_executor\u001b[0m\u001b[0;34m.\u001b[0m\u001b[0mon_no_available_trials\u001b[0m\u001b[0;34m(\u001b[0m\u001b[0mself\u001b[0m\u001b[0;34m)\u001b[0m\u001b[0;34m\u001b[0m\u001b[0;34m\u001b[0m\u001b[0m\n",
      "\u001b[0;32m~/huawei/SMART_2/SMARTS/.venv/lib/python3.7/site-packages/ray/tune/trial_runner.py\u001b[0m in \u001b[0;36m_process_events\u001b[0;34m(self)\u001b[0m\n\u001b[1;32m    674\u001b[0m             \u001b[0;31m# TODO(ujvl): Consider combining get_next_available_trial and\u001b[0m\u001b[0;34m\u001b[0m\u001b[0;34m\u001b[0m\u001b[0;34m\u001b[0m\u001b[0m\n\u001b[1;32m    675\u001b[0m             \u001b[0;31m#  fetch_result functionality so that we don't timeout on fetch.\u001b[0m\u001b[0;34m\u001b[0m\u001b[0;34m\u001b[0m\u001b[0;34m\u001b[0m\u001b[0m\n\u001b[0;32m--> 676\u001b[0;31m             \u001b[0mtrial\u001b[0m \u001b[0;34m=\u001b[0m \u001b[0mself\u001b[0m\u001b[0;34m.\u001b[0m\u001b[0mtrial_executor\u001b[0m\u001b[0;34m.\u001b[0m\u001b[0mget_next_available_trial\u001b[0m\u001b[0;34m(\u001b[0m\u001b[0;34m)\u001b[0m  \u001b[0;31m# blocking\u001b[0m\u001b[0;34m\u001b[0m\u001b[0;34m\u001b[0m\u001b[0m\n\u001b[0m\u001b[1;32m    677\u001b[0m             \u001b[0;32mif\u001b[0m \u001b[0mtrial\u001b[0m\u001b[0;34m.\u001b[0m\u001b[0mis_restoring\u001b[0m\u001b[0;34m:\u001b[0m\u001b[0;34m\u001b[0m\u001b[0;34m\u001b[0m\u001b[0m\n\u001b[1;32m    678\u001b[0m                 \u001b[0;32mwith\u001b[0m \u001b[0mwarn_if_slow\u001b[0m\u001b[0;34m(\u001b[0m\u001b[0;34m\"process_trial_restore\"\u001b[0m\u001b[0;34m)\u001b[0m\u001b[0;34m:\u001b[0m\u001b[0;34m\u001b[0m\u001b[0;34m\u001b[0m\u001b[0m\n",
      "\u001b[0;32m~/huawei/SMART_2/SMARTS/.venv/lib/python3.7/site-packages/ray/tune/ray_trial_executor.py\u001b[0m in \u001b[0;36mget_next_available_trial\u001b[0;34m(self)\u001b[0m\n\u001b[1;32m    462\u001b[0m         \u001b[0;31m# See https://github.com/ray-project/ray/issues/4211 for details.\u001b[0m\u001b[0;34m\u001b[0m\u001b[0;34m\u001b[0m\u001b[0;34m\u001b[0m\u001b[0m\n\u001b[1;32m    463\u001b[0m         \u001b[0mstart\u001b[0m \u001b[0;34m=\u001b[0m \u001b[0mtime\u001b[0m\u001b[0;34m.\u001b[0m\u001b[0mtime\u001b[0m\u001b[0;34m(\u001b[0m\u001b[0;34m)\u001b[0m\u001b[0;34m\u001b[0m\u001b[0;34m\u001b[0m\u001b[0m\n\u001b[0;32m--> 464\u001b[0;31m         \u001b[0;34m[\u001b[0m\u001b[0mresult_id\u001b[0m\u001b[0;34m]\u001b[0m\u001b[0;34m,\u001b[0m \u001b[0m_\u001b[0m \u001b[0;34m=\u001b[0m \u001b[0mray\u001b[0m\u001b[0;34m.\u001b[0m\u001b[0mwait\u001b[0m\u001b[0;34m(\u001b[0m\u001b[0mshuffled_results\u001b[0m\u001b[0;34m)\u001b[0m\u001b[0;34m\u001b[0m\u001b[0;34m\u001b[0m\u001b[0m\n\u001b[0m\u001b[1;32m    465\u001b[0m         \u001b[0mwait_time\u001b[0m \u001b[0;34m=\u001b[0m \u001b[0mtime\u001b[0m\u001b[0;34m.\u001b[0m\u001b[0mtime\u001b[0m\u001b[0;34m(\u001b[0m\u001b[0;34m)\u001b[0m \u001b[0;34m-\u001b[0m \u001b[0mstart\u001b[0m\u001b[0;34m\u001b[0m\u001b[0;34m\u001b[0m\u001b[0m\n\u001b[1;32m    466\u001b[0m         \u001b[0;32mif\u001b[0m \u001b[0mwait_time\u001b[0m \u001b[0;34m>\u001b[0m \u001b[0mNONTRIVIAL_WAIT_TIME_THRESHOLD_S\u001b[0m\u001b[0;34m:\u001b[0m\u001b[0;34m\u001b[0m\u001b[0;34m\u001b[0m\u001b[0m\n",
      "\u001b[0;32m~/huawei/SMART_2/SMARTS/.venv/lib/python3.7/site-packages/ray/worker.py\u001b[0m in \u001b[0;36mwait\u001b[0;34m(object_refs, num_returns, timeout)\u001b[0m\n\u001b[1;32m   1580\u001b[0m             \u001b[0mnum_returns\u001b[0m\u001b[0;34m,\u001b[0m\u001b[0;34m\u001b[0m\u001b[0;34m\u001b[0m\u001b[0m\n\u001b[1;32m   1581\u001b[0m             \u001b[0mtimeout_milliseconds\u001b[0m\u001b[0;34m,\u001b[0m\u001b[0;34m\u001b[0m\u001b[0;34m\u001b[0m\u001b[0m\n\u001b[0;32m-> 1582\u001b[0;31m             \u001b[0mworker\u001b[0m\u001b[0;34m.\u001b[0m\u001b[0mcurrent_task_id\u001b[0m\u001b[0;34m,\u001b[0m\u001b[0;34m\u001b[0m\u001b[0;34m\u001b[0m\u001b[0m\n\u001b[0m\u001b[1;32m   1583\u001b[0m         )\n\u001b[1;32m   1584\u001b[0m         \u001b[0;32mreturn\u001b[0m \u001b[0mready_ids\u001b[0m\u001b[0;34m,\u001b[0m \u001b[0mremaining_ids\u001b[0m\u001b[0;34m\u001b[0m\u001b[0;34m\u001b[0m\u001b[0m\n",
      "\u001b[0;32mpython/ray/_raylet.pyx\u001b[0m in \u001b[0;36mray._raylet.CoreWorker.wait\u001b[0;34m()\u001b[0m\n",
      "\u001b[0;32mpython/ray/_raylet.pyx\u001b[0m in \u001b[0;36mray._raylet.check_status\u001b[0;34m()\u001b[0m\n",
      "\u001b[0;31mKeyboardInterrupt\u001b[0m: "
     ]
    }
   ],
   "source": [
    "tune_config = build_tune_config(senario, headless=True,sumo_headless=True)\n",
    "\n",
    "tune.run(\n",
    "        PPOTrainer,  # Rllib supports using PPO in multi-agent setting\n",
    "        name=\"lets_play_tag\",\n",
    "        stop=TimeStopper(),\n",
    "        # XXX: Every X iterations perform a _ray actor_ checkpoint (this is\n",
    "        #      different than _exporting_ a TF/PT checkpoint).\n",
    "        checkpoint_freq=5,\n",
    "        checkpoint_at_end=True,\n",
    "        # XXX: Beware, resuming after changing tune params will not pick up\n",
    "        #      the new arguments as they are stored alongside the checkpoint.\n",
    "        resume=resume_training,\n",
    "        # restore=\"path_to_training_checkpoint/checkpoint_x/checkpoint-x\",\n",
    "        local_dir=local_dir,\n",
    "        reuse_actors=True,\n",
    "        max_failures=3,\n",
    "        export_formats=[\"model\", \"checkpoint\"],\n",
    "        config=tune_config,\n",
    "        scheduler=pbt,\n",
    "    )"
   ]
  },
  {
   "cell_type": "markdown",
   "metadata": {},
   "source": [
    "### Model Output"
   ]
  },
  {
   "cell_type": "code",
   "execution_count": null,
   "metadata": {},
   "outputs": [],
   "source": [
    "# Need to replace torch_policy.export_model with \n",
    "ray.shutdown()\n",
    "checkpoint_path = os.path.join(\n",
    "    os.path.abspath(''), \"models/checkpoint_360/checkpoint-360\"\n",
    ")\n",
    "ray.init(num_cpus=2)\n",
    "training_agent = PPOTrainer(env=RLlibHiWayEnv, config=tune_config)\n",
    "training_agent.restore(checkpoint_path)\n",
    "prefix = \"model.ckpt\"\n",
    "model_dir = os.path.join(\n",
    "    os.path.abspath(''), \"models/predator_model\"\n",
    ")\n",
    "training_agent.export_policy_model(model_dir, PREDATOR_POLICY)\n",
    "model_dir = os.path.join(\n",
    "    os.path.abspath(''), \"models/prey_model\"\n",
    ")\n",
    "training_agent.export_policy_model(model_dir, PREY_POLICY)"
   ]
  },
  {
   "cell_type": "markdown",
   "metadata": {},
   "source": [
    "## Run checkpoint"
   ]
  },
  {
   "cell_type": "code",
   "execution_count": 2,
   "metadata": {},
   "outputs": [
    {
     "name": "stderr",
     "output_type": "stream",
     "text": [
      "/home/kyber/huawei/SMART_2/SMARTS/.venv/lib/python3.7/site-packages/ray/node.py:805: ResourceWarning: unclosed file <_io.TextIOWrapper name='/tmp/ray/session_2022-08-15_14-49-07_994003_58940/logs/redis-shard_0.err' mode='a' encoding='utf-8'>\n",
      "  self.start_redis()\n",
      "ResourceWarning: Enable tracemalloc to get the object allocation traceback\n",
      "/home/kyber/huawei/SMART_2/SMARTS/.venv/lib/python3.7/site-packages/ray/node.py:805: ResourceWarning: unclosed file <_io.TextIOWrapper name='/tmp/ray/session_2022-08-15_14-49-07_994003_58940/logs/redis-shard_0.out' mode='a' encoding='utf-8'>\n",
      "  self.start_redis()\n",
      "ResourceWarning: Enable tracemalloc to get the object allocation traceback\n",
      "/home/kyber/huawei/SMART_2/SMARTS/.venv/lib/python3.7/site-packages/ray/node.py:805: ResourceWarning: unclosed file <_io.TextIOWrapper name='/tmp/ray/session_2022-08-15_14-49-07_994003_58940/logs/redis.err' mode='a' encoding='utf-8'>\n",
      "  self.start_redis()\n",
      "ResourceWarning: Enable tracemalloc to get the object allocation traceback\n",
      "/home/kyber/huawei/SMART_2/SMARTS/.venv/lib/python3.7/site-packages/ray/node.py:805: ResourceWarning: unclosed file <_io.TextIOWrapper name='/tmp/ray/session_2022-08-15_14-49-07_994003_58940/logs/redis.out' mode='a' encoding='utf-8'>\n",
      "  self.start_redis()\n",
      "ResourceWarning: Enable tracemalloc to get the object allocation traceback\n",
      "/home/kyber/huawei/SMART_2/SMARTS/.venv/lib/python3.7/site-packages/ray/node.py:807: ResourceWarning: unclosed file <_io.TextIOWrapper name='/tmp/ray/session_2022-08-15_14-49-07_994003_58940/logs/gcs_server.out' mode='a' encoding='utf-8'>\n",
      "  self.start_gcs_server()\n",
      "ResourceWarning: Enable tracemalloc to get the object allocation traceback\n",
      "/home/kyber/huawei/SMART_2/SMARTS/.venv/lib/python3.7/site-packages/ray/node.py:807: ResourceWarning: unclosed file <_io.TextIOWrapper name='/tmp/ray/session_2022-08-15_14-49-07_994003_58940/logs/gcs_server.err' mode='a' encoding='utf-8'>\n",
      "  self.start_gcs_server()\n",
      "ResourceWarning: Enable tracemalloc to get the object allocation traceback\n",
      "/home/kyber/huawei/SMART_2/SMARTS/.venv/lib/python3.7/site-packages/ray/node.py:809: ResourceWarning: unclosed file <_io.TextIOWrapper name='/tmp/ray/session_2022-08-15_14-49-07_994003_58940/logs/monitor.out' mode='a' encoding='utf-8'>\n",
      "  self.start_monitor()\n",
      "ResourceWarning: Enable tracemalloc to get the object allocation traceback\n",
      "/home/kyber/huawei/SMART_2/SMARTS/.venv/lib/python3.7/site-packages/ray/node.py:809: ResourceWarning: unclosed file <_io.TextIOWrapper name='/tmp/ray/session_2022-08-15_14-49-07_994003_58940/logs/monitor.err' mode='a' encoding='utf-8'>\n",
      "  self.start_monitor()\n",
      "ResourceWarning: Enable tracemalloc to get the object allocation traceback\n",
      "2022-08-15 14:49:08,765\tINFO services.py:1092 -- View the Ray dashboard at \u001b[1m\u001b[32mhttp://127.0.0.1:8265\u001b[39m\u001b[22m\n",
      "/home/kyber/huawei/SMART_2/SMARTS/.venv/lib/python3.7/site-packages/ray/node.py:814: ResourceWarning: unclosed file <_io.TextIOWrapper name='/tmp/ray/session_2022-08-15_14-49-07_994003_58940/logs/dashboard.out' mode='a' encoding='utf-8'>\n",
      "  self.start_dashboard(require_dashboard=False)\n",
      "ResourceWarning: Enable tracemalloc to get the object allocation traceback\n",
      "/home/kyber/huawei/SMART_2/SMARTS/.venv/lib/python3.7/site-packages/ray/node.py:814: ResourceWarning: unclosed file <_io.TextIOWrapper name='/tmp/ray/session_2022-08-15_14-49-07_994003_58940/logs/dashboard.err' mode='a' encoding='utf-8'>\n",
      "  self.start_dashboard(require_dashboard=False)\n",
      "ResourceWarning: Enable tracemalloc to get the object allocation traceback\n",
      "/home/kyber/huawei/SMART_2/SMARTS/.venv/lib/python3.7/site-packages/ray/node.py:830: ResourceWarning: unclosed file <_io.TextIOWrapper name='/tmp/ray/session_2022-08-15_14-49-07_994003_58940/logs/plasma_store.out' mode='a' encoding='utf-8'>\n",
      "  self.start_plasma_store(plasma_directory, object_store_memory)\n",
      "ResourceWarning: Enable tracemalloc to get the object allocation traceback\n",
      "/home/kyber/huawei/SMART_2/SMARTS/.venv/lib/python3.7/site-packages/ray/node.py:830: ResourceWarning: unclosed file <_io.TextIOWrapper name='/tmp/ray/session_2022-08-15_14-49-07_994003_58940/logs/plasma_store.err' mode='a' encoding='utf-8'>\n",
      "  self.start_plasma_store(plasma_directory, object_store_memory)\n",
      "ResourceWarning: Enable tracemalloc to get the object allocation traceback\n",
      "/home/kyber/huawei/SMART_2/SMARTS/.venv/lib/python3.7/site-packages/ray/node.py:831: ResourceWarning: unclosed file <_io.TextIOWrapper name='/tmp/ray/session_2022-08-15_14-49-07_994003_58940/logs/raylet.out' mode='a' encoding='utf-8'>\n",
      "  self.start_raylet(plasma_directory, object_store_memory)\n",
      "ResourceWarning: Enable tracemalloc to get the object allocation traceback\n",
      "/home/kyber/huawei/SMART_2/SMARTS/.venv/lib/python3.7/site-packages/ray/node.py:831: ResourceWarning: unclosed file <_io.TextIOWrapper name='/tmp/ray/session_2022-08-15_14-49-07_994003_58940/logs/raylet.err' mode='a' encoding='utf-8'>\n",
      "  self.start_raylet(plasma_directory, object_store_memory)\n",
      "ResourceWarning: Enable tracemalloc to get the object allocation traceback\n",
      "/home/kyber/huawei/SMART_2/SMARTS/.venv/lib/python3.7/site-packages/ray/node.py:833: ResourceWarning: unclosed file <_io.TextIOWrapper name='/tmp/ray/session_2022-08-15_14-49-07_994003_58940/logs/reporter.out' mode='a' encoding='utf-8'>\n",
      "  self.start_reporter()\n",
      "ResourceWarning: Enable tracemalloc to get the object allocation traceback\n",
      "/home/kyber/huawei/SMART_2/SMARTS/.venv/lib/python3.7/site-packages/ray/node.py:833: ResourceWarning: unclosed file <_io.TextIOWrapper name='/tmp/ray/session_2022-08-15_14-49-07_994003_58940/logs/reporter.err' mode='a' encoding='utf-8'>\n",
      "  self.start_reporter()\n",
      "ResourceWarning: Enable tracemalloc to get the object allocation traceback\n",
      "/home/kyber/huawei/SMART_2/SMARTS/.venv/lib/python3.7/site-packages/ray/node.py:836: ResourceWarning: unclosed file <_io.TextIOWrapper name='/tmp/ray/session_2022-08-15_14-49-07_994003_58940/logs/log_monitor.out' mode='a' encoding='utf-8'>\n",
      "  self.start_log_monitor()\n",
      "ResourceWarning: Enable tracemalloc to get the object allocation traceback\n",
      "/home/kyber/huawei/SMART_2/SMARTS/.venv/lib/python3.7/site-packages/ray/node.py:836: ResourceWarning: unclosed file <_io.TextIOWrapper name='/tmp/ray/session_2022-08-15_14-49-07_994003_58940/logs/log_monitor.err' mode='a' encoding='utf-8'>\n",
      "  self.start_log_monitor()\n",
      "ResourceWarning: Enable tracemalloc to get the object allocation traceback\n"
     ]
    }
   ],
   "source": [
    "from examples.game_of_tag.helper_checkpoint import *"
   ]
  },
  {
   "cell_type": "markdown",
   "metadata": {},
   "source": [
    "### Arguments"
   ]
  },
  {
   "cell_type": "code",
   "execution_count": 3,
   "metadata": {},
   "outputs": [],
   "source": [
    "chp_scenario = \"scenarios/game_of_tag_demo_map/\"\n",
    "headless = True\n",
    "checkpoint_path = os.path.join(\n",
    "    os.path.abspath(''), \"models/checkpoint_360/checkpoint-360\"\n",
    ")\n",
    "num_episodes = 10\n",
    "seed = 42"
   ]
  },
  {
   "cell_type": "markdown",
   "metadata": {},
   "source": [
    "### Run model in scenario"
   ]
  },
  {
   "cell_type": "code",
   "execution_count": 4,
   "metadata": {},
   "outputs": [
    {
     "name": "stderr",
     "output_type": "stream",
     "text": [
      "2022-08-15 14:49:13,867\tERROR syncer.py:63 -- Log sync requires rsync to be installed.\n",
      "2022-08-15 14:49:13,872\tWARNING deprecation.py:30 -- DeprecationWarning: `callbacks dict interface` has been deprecated. Use `a class extending rllib.agents.callbacks.DefaultCallbacks` instead. This will raise an error in the future!\n",
      "2022-08-15 14:49:13,873\tINFO trainer.py:619 -- Current log_level is WARN. For more information, set 'log_level': 'INFO' / 'DEBUG' or use the -v and -vv flags.\n",
      "\u001b[2m\u001b[36m(pid=59021)\u001b[0m WARNING:tensorflow:From /home/kyber/huawei/SMART_2/SMARTS/.venv/lib/python3.7/site-packages/tensorflow/python/compat/v2_compat.py:107: disable_resource_variables (from tensorflow.python.ops.variable_scope) is deprecated and will be removed in a future version.\n",
      "\u001b[2m\u001b[36m(pid=59021)\u001b[0m Instructions for updating:\n",
      "\u001b[2m\u001b[36m(pid=59021)\u001b[0m non-resource variables are not supported in the long term\n",
      "\u001b[2m\u001b[36m(pid=59022)\u001b[0m WARNING:tensorflow:From /home/kyber/huawei/SMART_2/SMARTS/.venv/lib/python3.7/site-packages/tensorflow/python/compat/v2_compat.py:107: disable_resource_variables (from tensorflow.python.ops.variable_scope) is deprecated and will be removed in a future version.\n",
      "\u001b[2m\u001b[36m(pid=59022)\u001b[0m Instructions for updating:\n",
      "\u001b[2m\u001b[36m(pid=59022)\u001b[0m non-resource variables are not supported in the long term\n",
      "\u001b[2m\u001b[36m(pid=59019)\u001b[0m WARNING:tensorflow:From /home/kyber/huawei/SMART_2/SMARTS/.venv/lib/python3.7/site-packages/tensorflow/python/compat/v2_compat.py:107: disable_resource_variables (from tensorflow.python.ops.variable_scope) is deprecated and will be removed in a future version.\n",
      "\u001b[2m\u001b[36m(pid=59019)\u001b[0m Instructions for updating:\n",
      "\u001b[2m\u001b[36m(pid=59019)\u001b[0m non-resource variables are not supported in the long term\n",
      "\u001b[2m\u001b[36m(pid=59021)\u001b[0m /home/kyber/huawei/SMART_2/SMARTS/smarts/core/agent.py:67: DeprecationWarning: The AgentSpec class has moved to the following module: smarts.zoo.agent_spec. Calling it from this module will be deprecated.\n",
      "\u001b[2m\u001b[36m(pid=59021)\u001b[0m   DeprecationWarning,\n",
      "\u001b[2m\u001b[36m(pid=59021)\u001b[0m /home/kyber/huawei/SMART_2/SMARTS/.venv/lib/python3.7/site-packages/ray/worker.py:922: ResourceWarning: unclosed file <_io.TextIOWrapper name='/tmp/ray/session_2022-08-15_14-49-07_994003_58940/logs/worker-5af5a7d188c8326af3ca594c6dd8ef026d1240ac-01000000-59021.out' mode='a' encoding='utf-8'>\n",
      "\u001b[2m\u001b[36m(pid=59021)\u001b[0m   _set_log_file(stdout_name, worker_pid, sys.stdout, stdout_setter)\n",
      "\u001b[2m\u001b[36m(pid=59021)\u001b[0m ResourceWarning: Enable tracemalloc to get the object allocation traceback\n",
      "\u001b[2m\u001b[36m(pid=59021)\u001b[0m /home/kyber/huawei/SMART_2/SMARTS/.venv/lib/python3.7/site-packages/ray/worker.py:926: ResourceWarning: unclosed file <_io.TextIOWrapper name='/tmp/ray/session_2022-08-15_14-49-07_994003_58940/logs/worker-5af5a7d188c8326af3ca594c6dd8ef026d1240ac-01000000-59021.err' mode='a' encoding='utf-8'>\n",
      "\u001b[2m\u001b[36m(pid=59021)\u001b[0m   _set_log_file(stderr_name, worker_pid, sys.stderr, stderr_setter)\n",
      "\u001b[2m\u001b[36m(pid=59021)\u001b[0m ResourceWarning: Enable tracemalloc to get the object allocation traceback\n",
      "\u001b[2m\u001b[36m(pid=59021)\u001b[0m 2022-08-15 14:49:17,930\tWARNING deprecation.py:30 -- DeprecationWarning: `callbacks dict interface` has been deprecated. Use `a class extending rllib.agents.callbacks.DefaultCallbacks` instead. This will raise an error in the future!\n",
      "2022-08-15 14:49:17,985\tWARNING deprecation.py:30 -- DeprecationWarning: `callbacks dict interface` has been deprecated. Use `a class extending rllib.agents.callbacks.DefaultCallbacks` instead. This will raise an error in the future!\n",
      "2022-08-15 14:49:18,037\tWARNING util.py:40 -- Install gputil for GPU system monitoring.\n",
      "/home/kyber/huawei/SMART_2/SMARTS/.venv/lib/python3.7/site-packages/ray/rllib/agents/trainer.py:672: ResourceWarning: unclosed file <_io.BufferedReader name='/home/kyber/huawei/SMART_2/SMARTS/examples/game_of_tag/models/checkpoint_360/checkpoint-360'>\n",
      "  extra_data = pickle.load(open(checkpoint_path, \"rb\"))\n",
      "ResourceWarning: Enable tracemalloc to get the object allocation traceback\n",
      "2022-08-15 14:49:18,093\tINFO trainable.py:482 -- Restored on 172.17.0.2 from checkpoint: /home/kyber/huawei/SMART_2/SMARTS/examples/game_of_tag/models/checkpoint_360/checkpoint-360\n",
      "2022-08-15 14:49:18,095\tINFO trainable.py:489 -- Current state after restoring: {'_iteration': 360, '_timesteps_total': None, '_time_total': 20063.611322402954, '_episodes_total': 3162}\n",
      "2022-08-15 14:49:18,114\tWARNING deprecation.py:30 -- DeprecationWarning: `callbacks dict interface` has been deprecated. Use `a class extending rllib.agents.callbacks.DefaultCallbacks` instead. This will raise an error in the future!\n",
      "\u001b[2m\u001b[36m(pid=59022)\u001b[0m /home/kyber/huawei/SMART_2/SMARTS/smarts/core/agent.py:67: DeprecationWarning: The AgentSpec class has moved to the following module: smarts.zoo.agent_spec. Calling it from this module will be deprecated.\n",
      "\u001b[2m\u001b[36m(pid=59022)\u001b[0m   DeprecationWarning,\n",
      "\u001b[2m\u001b[36m(pid=59022)\u001b[0m /home/kyber/huawei/SMART_2/SMARTS/.venv/lib/python3.7/site-packages/ray/worker.py:922: ResourceWarning: unclosed file <_io.TextIOWrapper name='/tmp/ray/session_2022-08-15_14-49-07_994003_58940/logs/worker-6f68104ffb54dd83bebffbca3d9d2417b1fe0e8b-01000000-59022.out' mode='a' encoding='utf-8'>\n",
      "\u001b[2m\u001b[36m(pid=59022)\u001b[0m   _set_log_file(stdout_name, worker_pid, sys.stdout, stdout_setter)\n",
      "\u001b[2m\u001b[36m(pid=59022)\u001b[0m ResourceWarning: Enable tracemalloc to get the object allocation traceback\n",
      "\u001b[2m\u001b[36m(pid=59019)\u001b[0m /home/kyber/huawei/SMART_2/SMARTS/smarts/core/agent.py:67: DeprecationWarning: The AgentSpec class has moved to the following module: smarts.zoo.agent_spec. Calling it from this module will be deprecated.\n",
      "\u001b[2m\u001b[36m(pid=59019)\u001b[0m   DeprecationWarning,\n",
      "\u001b[2m\u001b[36m(pid=59022)\u001b[0m /home/kyber/huawei/SMART_2/SMARTS/.venv/lib/python3.7/site-packages/ray/worker.py:926: ResourceWarning: unclosed file <_io.TextIOWrapper name='/tmp/ray/session_2022-08-15_14-49-07_994003_58940/logs/worker-6f68104ffb54dd83bebffbca3d9d2417b1fe0e8b-01000000-59022.err' mode='a' encoding='utf-8'>\n",
      "\u001b[2m\u001b[36m(pid=59022)\u001b[0m   _set_log_file(stderr_name, worker_pid, sys.stderr, stderr_setter)\n",
      "\u001b[2m\u001b[36m(pid=59022)\u001b[0m ResourceWarning: Enable tracemalloc to get the object allocation traceback\n",
      "\u001b[2m\u001b[36m(pid=59022)\u001b[0m 2022-08-15 14:49:18,170\tWARNING deprecation.py:30 -- DeprecationWarning: `callbacks dict interface` has been deprecated. Use `a class extending rllib.agents.callbacks.DefaultCallbacks` instead. This will raise an error in the future!\n",
      "\u001b[2m\u001b[36m(pid=59019)\u001b[0m /home/kyber/huawei/SMART_2/SMARTS/.venv/lib/python3.7/site-packages/ray/worker.py:922: ResourceWarning: unclosed file <_io.TextIOWrapper name='/tmp/ray/session_2022-08-15_14-49-07_994003_58940/logs/worker-bab54654f3a615dbd9243ffd1c5ee5b0b50c6b13-01000000-59019.out' mode='a' encoding='utf-8'>\n",
      "\u001b[2m\u001b[36m(pid=59019)\u001b[0m   _set_log_file(stdout_name, worker_pid, sys.stdout, stdout_setter)\n",
      "\u001b[2m\u001b[36m(pid=59019)\u001b[0m ResourceWarning: Enable tracemalloc to get the object allocation traceback\n",
      "\u001b[2m\u001b[36m(pid=59019)\u001b[0m /home/kyber/huawei/SMART_2/SMARTS/.venv/lib/python3.7/site-packages/ray/worker.py:926: ResourceWarning: unclosed file <_io.TextIOWrapper name='/tmp/ray/session_2022-08-15_14-49-07_994003_58940/logs/worker-bab54654f3a615dbd9243ffd1c5ee5b0b50c6b13-01000000-59019.err' mode='a' encoding='utf-8'>\n",
      "\u001b[2m\u001b[36m(pid=59019)\u001b[0m   _set_log_file(stderr_name, worker_pid, sys.stderr, stderr_setter)\n",
      "\u001b[2m\u001b[36m(pid=59019)\u001b[0m ResourceWarning: Enable tracemalloc to get the object allocation traceback\n",
      "\u001b[2m\u001b[36m(pid=59019)\u001b[0m 2022-08-15 14:49:18,215\tWARNING deprecation.py:30 -- DeprecationWarning: `callbacks dict interface` has been deprecated. Use `a class extending rllib.agents.callbacks.DefaultCallbacks` instead. This will raise an error in the future!\n",
      "\u001b[2m\u001b[36m(pid=59020)\u001b[0m WARNING:tensorflow:From /home/kyber/huawei/SMART_2/SMARTS/.venv/lib/python3.7/site-packages/tensorflow/python/compat/v2_compat.py:107: disable_resource_variables (from tensorflow.python.ops.variable_scope) is deprecated and will be removed in a future version.\n",
      "\u001b[2m\u001b[36m(pid=59020)\u001b[0m Instructions for updating:\n",
      "\u001b[2m\u001b[36m(pid=59020)\u001b[0m non-resource variables are not supported in the long term\n",
      "\u001b[2m\u001b[36m(pid=59020)\u001b[0m /home/kyber/huawei/SMART_2/SMARTS/smarts/core/agent.py:67: DeprecationWarning: The AgentSpec class has moved to the following module: smarts.zoo.agent_spec. Calling it from this module will be deprecated.\n",
      "\u001b[2m\u001b[36m(pid=59020)\u001b[0m   DeprecationWarning,\n",
      "\u001b[2m\u001b[36m(pid=59020)\u001b[0m /home/kyber/huawei/SMART_2/SMARTS/.venv/lib/python3.7/site-packages/ray/worker.py:922: ResourceWarning: unclosed file <_io.TextIOWrapper name='/tmp/ray/session_2022-08-15_14-49-07_994003_58940/logs/worker-2f6dba0ae8fd3e309bf0b1fc76eeccba5f45226d-01000000-59020.out' mode='a' encoding='utf-8'>\n",
      "\u001b[2m\u001b[36m(pid=59020)\u001b[0m   _set_log_file(stdout_name, worker_pid, sys.stdout, stdout_setter)\n",
      "\u001b[2m\u001b[36m(pid=59020)\u001b[0m ResourceWarning: Enable tracemalloc to get the object allocation traceback\n",
      "\u001b[2m\u001b[36m(pid=59020)\u001b[0m /home/kyber/huawei/SMART_2/SMARTS/.venv/lib/python3.7/site-packages/ray/worker.py:926: ResourceWarning: unclosed file <_io.TextIOWrapper name='/tmp/ray/session_2022-08-15_14-49-07_994003_58940/logs/worker-2f6dba0ae8fd3e309bf0b1fc76eeccba5f45226d-01000000-59020.err' mode='a' encoding='utf-8'>\n",
      "\u001b[2m\u001b[36m(pid=59020)\u001b[0m   _set_log_file(stderr_name, worker_pid, sys.stderr, stderr_setter)\n",
      "\u001b[2m\u001b[36m(pid=59020)\u001b[0m ResourceWarning: Enable tracemalloc to get the object allocation traceback\n",
      "\u001b[2m\u001b[36m(pid=59020)\u001b[0m 2022-08-15 14:49:21,962\tWARNING deprecation.py:30 -- DeprecationWarning: `callbacks dict interface` has been deprecated. Use `a class extending rllib.agents.callbacks.DefaultCallbacks` instead. This will raise an error in the future!\n",
      "2022-08-15 14:49:22,044\tWARNING deprecation.py:30 -- DeprecationWarning: `callbacks dict interface` has been deprecated. Use `a class extending rllib.agents.callbacks.DefaultCallbacks` instead. This will raise an error in the future!\n",
      "2022-08-15 14:49:22,083\tWARNING util.py:40 -- Install gputil for GPU system monitoring.\n",
      "2022-08-15 14:49:22,121\tINFO trainable.py:482 -- Restored on 172.17.0.2 from checkpoint: /home/kyber/huawei/SMART_2/SMARTS/examples/game_of_tag/models/checkpoint_360/checkpoint-360\n",
      "2022-08-15 14:49:22,122\tINFO trainable.py:489 -- Current state after restoring: {'_iteration': 360, '_timesteps_total': None, '_time_total': 20063.611322402954, '_episodes_total': 3162}\n"
     ]
    },
    {
     "name": "stdout",
     "output_type": "stream",
     "text": [
      "╭────────────────────┬────────────────────┬────────────────────┬────────────────────┬────────────────────┬────────────────────┬────────────────────┬────────────────────╮\n",
      "│            Episode │     Sim T / Wall T │        Total Steps │        Steps / Sec │       Scenario Map │    Scenario Routes │     Mission (Hash) │             Scores │\n",
      "├────────────────────┼────────────────────┼────────────────────┼────────────────────┼────────────────────┼────────────────────┼────────────────────┼────────────────────┤\n"
     ]
    },
    {
     "name": "stderr",
     "output_type": "stream",
     "text": [
      "/home/kyber/huawei/SMART_2/SMARTS/.venv/lib/python3.7/site-packages/scipy/linalg/decomp_qr.py:20: DeprecationWarning: `np.int` is a deprecated alias for the builtin `int`. To silence this warning, use `int` by itself. Doing this will not modify any behavior and is safe. When replacing `np.int`, you may wish to use e.g. `np.int64` or `np.int32` to specify the precision. If you wish to review your current use, check the release note link for additional information.\n",
      "Deprecated in NumPy 1.20; for more details and guidance: https://numpy.org/devdocs/release/1.20.0-notes.html#deprecations\n",
      "  kwargs['lwork'] = ret[-2][0].real.astype(numpy.int)\n",
      "WARNING:SMARTS:Attempted to perform actions on non-existing agent, PRED1 \n"
     ]
    },
    {
     "name": "stdout",
     "output_type": "stream",
     "text": [
      "│               0/10 │               1.80 │                 56 │              17.96 │ game_of_tag_demo_m │                    │ 324532390299107578 │      41.93 - PREY1 │\n"
     ]
    },
    {
     "name": "stderr",
     "output_type": "stream",
     "text": [
      "2022-08-15 14:49:28,969\tWARNING worker.py:1091 -- The actor or task with ID ffffffffffffffff3db7cfef01000000 is pending and cannot currently be scheduled. It requires {CPU: 1.000000} for execution and {CPU: 1.000000} for placement, but this node only has remaining {node:172.17.0.2: 1.000000}, {memory: 2661.914062 GiB}, {object_store_memory: 128.515625 GiB}. In total there are 0 pending tasks and 2 pending actors on this node. This is likely due to all cluster resources being claimed by actors. To resolve the issue, consider creating fewer actors or increase the resources available to this Ray cluster. You can ignore this message if this Ray cluster is expected to auto-scale.\n",
      "WARNING:SMARTS:Attempted to perform actions on non-existing agent, PRED1 \n"
     ]
    },
    {
     "name": "stdout",
     "output_type": "stream",
     "text": [
      "│               1/10 │               2.25 │                394 │              22.54 │ game_of_tag_demo_m │                    │ 324532390299107578 │     152.70 - PREY1 │\n"
     ]
    },
    {
     "name": "stderr",
     "output_type": "stream",
     "text": [
      "WARNING:SMARTS:Attempted to perform actions on non-existing agent, PRED1 \n"
     ]
    },
    {
     "name": "stdout",
     "output_type": "stream",
     "text": [
      "│               2/10 │               2.34 │                809 │              23.37 │ game_of_tag_demo_m │                    │ 324532390299107578 │     344.27 - PREY1 │\n"
     ]
    },
    {
     "name": "stderr",
     "output_type": "stream",
     "text": [
      "WARNING:SMARTS:Attempted to perform actions on non-existing agent, PRED1 \n"
     ]
    },
    {
     "name": "stdout",
     "output_type": "stream",
     "text": [
      "│               3/10 │               1.10 │                 17 │              10.96 │ game_of_tag_demo_m │                    │ 324532390299107578 │      10.39 - PREY1 │\n"
     ]
    },
    {
     "name": "stderr",
     "output_type": "stream",
     "text": [
      "WARNING:SMARTS:Attempted to perform actions on non-existing agent, PRED1 \n"
     ]
    },
    {
     "name": "stdout",
     "output_type": "stream",
     "text": [
      "│               4/10 │               2.02 │                228 │              20.22 │ game_of_tag_demo_m │                    │ 324532390299107578 │     114.46 - PREY1 │\n"
     ]
    },
    {
     "name": "stderr",
     "output_type": "stream",
     "text": [
      "WARNING:SMARTS:Attempted to perform actions on non-existing agent, PRED1 \n"
     ]
    },
    {
     "name": "stdout",
     "output_type": "stream",
     "text": [
      "│               5/10 │               2.29 │               1187 │              22.94 │ game_of_tag_demo_m │                    │ 324532390299107578 │     533.23 - PREY1 │\n"
     ]
    },
    {
     "name": "stderr",
     "output_type": "stream",
     "text": [
      "WARNING:SMARTS:Attempted to perform actions on non-existing agent, PRED1 \n"
     ]
    },
    {
     "name": "stdout",
     "output_type": "stream",
     "text": [
      "│               6/10 │               2.31 │                545 │              23.09 │ game_of_tag_demo_m │                    │ 324532390299107578 │     333.62 - PREY1 │\n",
      "prey PREY1-77d21e02 collided with Predator PRED1 distance 2.0354242268382183\n",
      "predator PRED1-8da0365b collided with prey PREY1 distance 2.0354242268382183\n",
      "│               7/10 │               2.29 │                865 │              22.88 │ game_of_tag_demo_m │                    │ 324532390299107578 │     427.70 - PREY1 │\n",
      "│                    │                    │                    │                    │                    │                    │                    │     522.67 - PRED1 │\n"
     ]
    },
    {
     "name": "stderr",
     "output_type": "stream",
     "text": [
      "WARNING:SMARTS:Attempted to perform actions on non-existing agent, PRED1 \n"
     ]
    },
    {
     "name": "stdout",
     "output_type": "stream",
     "text": [
      "│               8/10 │               2.30 │               1080 │              22.98 │ game_of_tag_demo_m │                    │ 324532390299107578 │     545.54 - PREY1 │\n"
     ]
    },
    {
     "name": "stderr",
     "output_type": "stream",
     "text": [
      "WARNING:SMARTS:Attempted to perform actions on non-existing agent, PRED1 \n"
     ]
    },
    {
     "name": "stdout",
     "output_type": "stream",
     "text": [
      "│               9/10 │               2.31 │                430 │              23.12 │ game_of_tag_demo_m │                    │ 324532390299107578 │     201.98 - PREY1 │\n",
      "╰────────────────────┴────────────────────┴────────────────────┴────────────────────┴────────────────────┴────────────────────┴────────────────────┴────────────────────╯\n"
     ]
    }
   ],
   "source": [
    "agent_specs = {}\n",
    "\n",
    "for agent_id in PREDATOR_IDS:\n",
    "    agent_specs[agent_id] = AgentSpec(\n",
    "        interface=shared_interface,\n",
    "        agent_builder=lambda: TagModelAgent(\n",
    "            checkpoint_path,  # assumes checkpoint exists\n",
    "            chp_scenario,\n",
    "            headless,\n",
    "            \"predator_policy\",\n",
    "        ),\n",
    "        observation_adapter=observation_adapter,\n",
    "        reward_adapter=predator_reward_adapter,\n",
    "        action_adapter=action_adapter,\n",
    "    )\n",
    "\n",
    "for agent_id in PREY_IDS:\n",
    "    agent_specs[agent_id] = AgentSpec(\n",
    "        interface=shared_interface,\n",
    "        agent_builder=lambda: TagModelAgent(\n",
    "            checkpoint_path,  # assumes checkpoint exists\n",
    "            chp_scenario,\n",
    "            headless,\n",
    "            \"prey_policy\",\n",
    "        ),\n",
    "        observation_adapter=observation_adapter,\n",
    "        reward_adapter=prey_reward_adapter,\n",
    "        action_adapter=action_adapter,\n",
    "    )\n",
    "\n",
    "env = gym.make(\n",
    "    \"smarts.env:hiway-v0\",\n",
    "    scenarios=[chp_scenario],\n",
    "    agent_specs=agent_specs,\n",
    "    sim_name=\"test_game_of_tag\",\n",
    "    headless=True,\n",
    "    sumo_headless=True,\n",
    "    seed=seed,\n",
    ")\n",
    "\n",
    "agents = {\n",
    "    agent_id: agent_spec.build_agent()\n",
    "    for agent_id, agent_spec in agent_specs.items()\n",
    "}\n",
    "\n",
    "for episode in episodes(n=num_episodes):\n",
    "    observations = env.reset()\n",
    "    episode.record_scenario(env.scenario_log)\n",
    "\n",
    "    dones = {\"__all__\": False}\n",
    "    while not dones[\"__all__\"]:\n",
    "        actions = {\n",
    "            agent_id: agents[agent_id].act(agent_obs)\n",
    "            for agent_id, agent_obs in observations.items()\n",
    "        }\n",
    "\n",
    "        observations, rewards, dones, infos = env.step(actions)\n",
    "        episode.record_step(observations, rewards, dones, infos)\n",
    "\n",
    "env.close()"
   ]
  }
 ],
 "metadata": {
  "kernelspec": {
   "display_name": "Python 3.7.10 ('.venv': venv)",
   "language": "python",
   "name": "python3"
  },
  "language_info": {
   "codemirror_mode": {
    "name": "ipython",
    "version": 3
   },
   "file_extension": ".py",
   "mimetype": "text/x-python",
   "name": "python",
   "nbconvert_exporter": "python",
   "pygments_lexer": "ipython3",
   "version": "3.7.10"
  },
  "orig_nbformat": 4,
  "vscode": {
   "interpreter": {
    "hash": "eba8917213945ce38e0c5a424c546b1d9a5eeb7a3e3f99271a1b0c2776f64c29"
   }
  }
 },
 "nbformat": 4,
 "nbformat_minor": 2
}
