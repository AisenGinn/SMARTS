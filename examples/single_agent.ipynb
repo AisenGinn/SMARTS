{
 "cells": [
  {
   "cell_type": "markdown",
   "metadata": {},
   "source": [
    "# Example: Single Agent"
   ]
  },
  {
   "cell_type": "markdown",
   "metadata": {},
   "source": [
    "Install SUMO."
   ]
  },
  {
   "cell_type": "code",
   "execution_count": null,
   "metadata": {},
   "outputs": [],
   "source": [
    "# Setup SUMO=1.10.0\n",
    "!apt-get update --fix-missing\n",
    "!apt-get install -y libspatialindex-dev\n",
    "%pip install --upgrade pip wheel\n",
    "%pip install eclipse-sumo==1.10.0\n",
    "%env SUMO_HOME=/usr/local/lib/python3.7/dist-packages/sumo"
   ]
  },
  {
   "cell_type": "markdown",
   "metadata": {},
   "source": [
    "Install SMARTS."
   ]
  },
  {
   "cell_type": "code",
   "execution_count": null,
   "metadata": {},
   "outputs": [],
   "source": [
    "# Install SMARTS\n",
    "%cd ~\n",
    "!rm -rf /content/SMARTS\n",
    "!git clone https://github.com/huawei-noah/SMARTS /content/SMARTS\n",
    "!cd /content/SMARTS && git checkout 'ipynb-1' && pip install .[camera-obs]\n",
    "!echo -e \"import sys\\nsys.path.insert(0, '/content/SMARTS/')\" | python"
   ]
  },
  {
   "cell_type": "markdown",
   "metadata": {},
   "source": [
    "Build the scenarios."
   ]
  },
  {
   "cell_type": "code",
   "execution_count": null,
   "metadata": {},
   "outputs": [],
   "source": [
    "# Build scenarios\n",
    "!scl scenario build-all --clean /content/SMARTS/scenarios/figure_eight"
   ]
  },
  {
   "cell_type": "markdown",
   "metadata": {},
   "source": [
    "Define the agent."
   ]
  },
  {
   "cell_type": "code",
   "execution_count": null,
   "metadata": {},
   "outputs": [],
   "source": [
    "import gym\n",
    "\n",
    "from smarts.core.agent import Agent\n",
    "from smarts.core.sensors import Observation\n",
    "\n",
    "class ChaseViaPointsAgent(Agent):\n",
    "    def act(self, obs: Observation):\n",
    "        if (\n",
    "            len(obs.via_data.near_via_points) < 1\n",
    "            or obs.ego_vehicle_state.road_id != obs.via_data.near_via_points[0].road_id\n",
    "        ):\n",
    "            return (obs.waypoint_paths[0][0].speed_limit, 0)\n",
    "\n",
    "        nearest = obs.via_data.near_via_points[0]\n",
    "        if nearest.lane_index == obs.ego_vehicle_state.lane_index:\n",
    "            return (nearest.required_speed, 0)\n",
    "\n",
    "        return (\n",
    "            nearest.required_speed,\n",
    "            1 if nearest.lane_index > obs.ego_vehicle_state.lane_index else -1,\n",
    "        )"
   ]
  },
  {
   "cell_type": "markdown",
   "metadata": {},
   "source": [
    "Define the environment loop."
   ]
  },
  {
   "cell_type": "code",
   "execution_count": null,
   "metadata": {},
   "outputs": [],
   "source": [
    "from smarts.core.agent import AgentSpec\n",
    "from smarts.core.agent_interface import AgentInterface, AgentType\n",
    "from smarts.core.utils.episodes import episodes\n",
    "from smarts.env.hiway_env import HiWayEnv\n",
    "from smarts.env.wrappers.single_agent import SingleAgent\n",
    "\n",
    "AGENT_ID = \"SingleAgent\"\n",
    "\n",
    "def main(scenarios, sim_name, headless, num_episodes, seed, envision_endpoint, max_episode_steps=None):\n",
    "    agent_spec = AgentSpec(\n",
    "        interface=AgentInterface.from_type(\n",
    "            AgentType.LanerWithSpeed, max_episode_steps=max_episode_steps\n",
    "        ),\n",
    "        agent_builder=ChaseViaPointsAgent,\n",
    "    )\n",
    "\n",
    "    env = HiWayEnv(\n",
    "        scenarios=scenarios,\n",
    "        agent_specs={AGENT_ID: agent_spec},\n",
    "        sim_name=sim_name,\n",
    "        headless=headless,\n",
    "        visdom=False,\n",
    "        fixed_timestep_sec=0.1,\n",
    "        sumo_headless=True,\n",
    "        seed=seed,\n",
    "        envision_endpoint=envision_endpoint\n",
    "    )\n",
    "\n",
    "    # Wrap a single-agent env with SingleAgent wrapper to make `step` and `reset`\n",
    "    # output compliant with gym spaces.\n",
    "    env = SingleAgent(env)\n",
    "\n",
    "    for episode in episodes(n=num_episodes):\n",
    "        agent = agent_spec.build_agent()\n",
    "        observation = env.reset()\n",
    "        episode.record_scenario(env.scenario_log)\n",
    "\n",
    "        done = False\n",
    "        while not done:\n",
    "            agent_action = agent.act(observation)\n",
    "            observation, reward, done, info = env.step(agent_action)\n",
    "            episode.record_step(observation, reward, done, info)\n",
    "\n",
    "    env.close()"
   ]
  },
  {
   "cell_type": "markdown",
   "metadata": {},
   "source": [
    "Run the Envision server in the background."
   ]
  },
  {
   "cell_type": "markdown",
   "metadata": {},
   "source": [
    "Create an iframe to display the browser running Envision."
   ]
  },
  {
   "cell_type": "markdown",
   "metadata": {},
   "source": [
    "Run the example."
   ]
  },
  {
   "cell_type": "code",
   "execution_count": null,
   "metadata": {},
   "outputs": [],
   "source": [
    "%cd /content/SMARTS\n",
    "\n",
    "!nohup scl envision start -s /content/SMARTS/scenarios --port=8081 &\n",
    "\n",
    "from google.colab import output\n",
    "port=8081\n",
    "output.serve_kernel_port_as_window(port)\n"
   ]
  },
  {
   "cell_type": "code",
   "execution_count": null,
   "metadata": {},
   "outputs": [],
   "source": [
    "%cd /content/SMARTS\n",
    "# !wget https://bin.equinox.io/c/4VmDzA7iaHb/ngrok-stable-linux-amd64.zip\n",
    "# !unzip ngrok-stable-linux-amd64.zip\n",
    "\n",
    "!pip install pyngrok\n",
    "\n",
    "from pyngrok import ngrok\n",
    "# Open a HTTP tunnel on the default port 80\n",
    "public_url = ngrok.connect(port = '8081')\n",
    "public_url"
   ]
  },
  {
   "cell_type": "code",
   "execution_count": null,
   "metadata": {},
   "outputs": [],
   "source": [
    "main(\n",
    "    scenarios=[\"/content/SMARTS/scenarios/figure_eight\"],\n",
    "    sim_name=\"Single agent\",\n",
    "    headless=False,\n",
    "    num_episodes=3,\n",
    "    seed=42,\n",
    "    envision_endpoint=\"ws://localhost:8081\"\n",
    ")"
   ]
  },
  {
   "cell_type": "code",
   "execution_count": null,
   "metadata": {},
   "outputs": [],
   "source": [
    "# get_ipython().system_raw(\"scl envision start -s /content/SMARTS/scenarios\")\n",
    "\n",
    "# %%bash --bg\n",
    "# scl envision start -s /content/SMARTS/scenarios &> /content/SMARTS/envision.log\n",
    "\n",
    "!nohup scl envision start -s /content/SMARTS/scenarios &"
   ]
  },
  {
   "cell_type": "code",
   "execution_count": null,
   "metadata": {},
   "outputs": [],
   "source": [
    "from google.colab import output\n",
    "port=8081\n",
    "output.serve_kernel_port_as_iframe(port)"
   ]
  },
  {
   "cell_type": "code",
   "execution_count": null,
   "metadata": {},
   "outputs": [],
   "source": [
    "%killbgscripts\n",
    "!pkill -9 -f envision\n",
    "!pkill -9 -f smarts"
   ]
  }
 ],
 "metadata": {
  "interpreter": {
   "hash": "fd69f43f58546b570e94fd7eba7b65e6bcc7a5bbc4eab0408017d18902915d69"
  },
  "kernelspec": {
   "display_name": "Python 3.7.5 64-bit",
   "language": "python",
   "name": "python3"
  },
  "language_info": {
   "codemirror_mode": {
    "name": "ipython",
    "version": 3
   },
   "file_extension": ".py",
   "mimetype": "text/x-python",
   "name": "python",
   "nbconvert_exporter": "python",
   "pygments_lexer": "ipython3",
   "version": "3.7.5"
  },
  "orig_nbformat": 4
 },
 "nbformat": 4,
 "nbformat_minor": 2
}
