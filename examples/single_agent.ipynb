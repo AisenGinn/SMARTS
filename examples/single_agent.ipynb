{
 "cells": [
  {
   "cell_type": "markdown",
   "metadata": {},
   "source": [
    "# Single Agent \n",
    "\n",
    "## Setup \n",
    "Install Python, SUMO, and required packages."
   ]
  },
  {
   "cell_type": "code",
   "execution_count": null,
   "metadata": {},
   "outputs": [],
   "source": [
    "# Setup SUMO=1.10.0\n",
    "!apt-get update --fix-missing\n",
    "!apt-get install -y libspatialindex-dev xorg\n",
    "%pip install eclipse-sumo==1.10.0\n",
    "%env SUMO_HOME=/usr/local/bin/sumo\n",
    "\n",
    "# Install SMARTS\n",
    "!git clone https://github.com/huawei-noah/SMARTS\n",
    "%cd /content/SMARTS\n",
    "!git checkout develop\n",
    "%pip install -e .[camera-obs]\n",
    "\n",
    "# Build scenarios\n",
    "%cd /content/SMARTS\n",
    "!scl scenario build --clean scenarios/loop"
   ]
  },
  {
   "cell_type": "markdown",
   "metadata": {},
   "source": [
    "## Run the single agent example "
   ]
  },
  {
   "cell_type": "code",
   "execution_count": null,
   "metadata": {},
   "outputs": [],
   "source": [
    "from argument_parser import default_argument_parser\n",
    "\n",
    "parser = default_argument_parser(\"single-agent-example\")\n",
    "args = parser.parse_args()\n",
    "\n",
    "main(\n",
    "    scenarios=args.scenarios,\n",
    "    sim_name=args.sim_name,\n",
    "    headless=args.headless,\n",
    "    num_episodes=args.episodes,\n",
    "    seed=args.seed,\n",
    ")"
   ]
  },
  {
   "cell_type": "markdown",
   "metadata": {},
   "source": []
  }
 ],
 "metadata": {
  "interpreter": {
   "hash": "fd69f43f58546b570e94fd7eba7b65e6bcc7a5bbc4eab0408017d18902915d69"
  },
  "kernelspec": {
   "display_name": "Python 3.7.5 64-bit",
   "language": "python",
   "name": "python3"
  },
  "language_info": {
   "codemirror_mode": {
    "name": "ipython",
    "version": 3
   },
   "file_extension": ".py",
   "mimetype": "text/x-python",
   "name": "python",
   "nbconvert_exporter": "python",
   "pygments_lexer": "ipython3",
   "version": "3.7.5"
  },
  "orig_nbformat": 4
 },
 "nbformat": 4,
 "nbformat_minor": 2
}
