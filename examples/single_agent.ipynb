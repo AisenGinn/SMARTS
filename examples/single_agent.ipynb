{
 "cells": [
  {
   "cell_type": "markdown",
   "metadata": {},
   "source": [
    "# Example: Single Agent() "
   ]
  },
  {
   "cell_type": "markdown",
   "metadata": {},
   "source": [
    "Install SUMO, SMARTS, required packages, and build the scenarios."
   ]
  },
  {
   "cell_type": "code",
   "execution_count": 5,
   "metadata": {},
   "outputs": [
    {
     "name": "stdout",
     "output_type": "stream",
     "text": [
      "Reading package lists... Done\n",
      "E: Could not open lock file /var/lib/apt/lists/lock - open (13: Permission denied)\n",
      "E: Unable to lock directory /var/lib/apt/lists/\n",
      "W: Problem unlinking the file /var/cache/apt/pkgcache.bin - RemoveCaches (13: Permission denied)\n",
      "W: Problem unlinking the file /var/cache/apt/srcpkgcache.bin - RemoveCaches (13: Permission denied)\n",
      "E: Could not open lock file /var/lib/dpkg/lock-frontend - open (13: Permission denied)\n",
      "E: Unable to acquire the dpkg frontend lock (/var/lib/dpkg/lock-frontend), are you root?\n",
      "Collecting eclipse-sumo==1.10.0\n",
      "  Using cached eclipse_sumo-1.10.0-py2.py3-none-manylinux_2_17_x86_64.manylinux2014_x86_64.whl (49.8 MB)\n",
      "Installing collected packages: eclipse-sumo\n",
      "Successfully installed eclipse-sumo-1.10.0\n",
      "Note: you may need to restart the kernel to use updated packages.\n",
      "env: SUMO_HOME=/usr/local/lib/python3.7/dist-packages/sumo\n",
      "[Errno 2] No such file or directory: '/content/'\n",
      "/home/adai/workspaces/smarts-2/examples\n",
      "Cloning into 'SMARTS'...\n",
      "remote: Enumerating objects: 21487, done.\u001b[K\n",
      "remote: Counting objects: 100% (249/249), done.\u001b[K\n",
      "remote: Compressing objects: 100% (177/177), done.\u001b[K\n",
      "remote: Total 21487 (delta 150), reused 142 (delta 72), pack-reused 21238\u001b[K\n",
      "Receiving objects: 100% (21487/21487), 267.73 MiB | 31.87 MiB/s, done.\n",
      "Resolving deltas: 100% (15584/15584), done.\n",
      "[Errno 2] No such file or directory: '/content/SMARTS'\n",
      "/home/adai/workspaces/smarts-2/examples\n",
      "error: Your local changes to the following files would be overwritten by checkout:\n",
      "\texamples/single_agent.ipynb\n",
      "Please commit your changes or stash them before you switch branches.\n",
      "Aborting\n",
      "Obtaining file:///home/adai/workspaces/smarts-2/examples\n",
      "\u001b[31mERROR: file:///home/adai/workspaces/smarts-2/examples does not appear to be a Python project: neither 'setup.py' nor 'pyproject.toml' found.\u001b[0m\n",
      "Note: you may need to restart the kernel to use updated packages.\n",
      "Traceback (most recent call last):\n",
      "  File \"/home/adai/workspaces/SMARTS/examples/intersection/.venv/bin/scl\", line 5, in <module>\n",
      "    from cli.cli import scl\n",
      "  File \"/home/adai/workspaces/SMARTS/examples/intersection/.venv/lib/python3.7/site-packages/cli/cli.py\", line 27, in <module>\n",
      "    from cli.studio import scenario_cli\n",
      "  File \"/home/adai/workspaces/SMARTS/examples/intersection/.venv/lib/python3.7/site-packages/cli/studio.py\", line 29, in <module>\n",
      "    from smarts.core.sumo_road_network import SumoRoadNetwork\n",
      "  File \"/home/adai/workspaces/SMARTS/examples/intersection/.venv/lib/python3.7/site-packages/smarts/core/sumo_road_network.py\", line 39, in <module>\n",
      "    from .sumo_lanepoints import LinkedLanePoint, SumoLanePoints\n",
      "  File \"/home/adai/workspaces/SMARTS/examples/intersection/.venv/lib/python3.7/site-packages/smarts/core/sumo_lanepoints.py\", line 43, in <module>\n",
      "    from smarts.core.utils.sumo import sumolib  # isort:skip\n",
      "  File \"/home/adai/workspaces/SMARTS/examples/intersection/.venv/lib/python3.7/site-packages/smarts/core/utils/sumo.py\", line 40, in <module>\n",
      "    import sumolib  # isort:skip\n",
      "ModuleNotFoundError: No module named 'sumolib'\n"
     ]
    }
   ],
   "source": [
    "# Setup SUMO=1.10.0\n",
    "!apt-get update --fix-missing\n",
    "!apt-get install -y libspatialindex-dev xorg\n",
    "%pip install eclipse-sumo==1.10.0\n",
    "%env SUMO_HOME=/usr/local/lib/python3.7/dist-packages/sumo\n",
    "\n",
    "# Install SMARTS\n",
    "%cd /content/\n",
    "!git clone https://github.com/huawei-noah/SMARTS\n",
    "%cd /content/SMARTS \n",
    "!git checkout develop\n",
    "%pip install -e .[camera-obs]\n",
    "import sys\n",
    "sys.path.insert(0, '/content/SMARTS/')\n",
    "\n",
    "# Build scenarios\n",
    "!scl scenario build-all --clean /content/SMARTS/scenarios/loop"
   ]
  },
  {
   "cell_type": "markdown",
   "metadata": {},
   "source": [
    "Define the agent and the environment loop."
   ]
  },
  {
   "cell_type": "code",
   "execution_count": 6,
   "metadata": {},
   "outputs": [
    {
     "name": "stdout",
     "output_type": "stream",
     "text": [
      "pybullet build time: Oct  8 2020 00:10:46\n"
     ]
    }
   ],
   "source": [
    "import gym\n",
    "\n",
    "from smarts.core.agent import Agent\n",
    "from smarts.core.sensors import Observation\n",
    "\n",
    "class ChaseViaPointsAgent(Agent):\n",
    "    def act(self, obs: Observation):\n",
    "        if (\n",
    "            len(obs.via_data.near_via_points) < 1\n",
    "            or obs.ego_vehicle_state.road_id != obs.via_data.near_via_points[0].road_id\n",
    "        ):\n",
    "            return (obs.waypoint_paths[0][0].speed_limit, 0)\n",
    "\n",
    "        nearest = obs.via_data.near_via_points[0]\n",
    "        if nearest.lane_index == obs.ego_vehicle_state.lane_index:\n",
    "            return (nearest.required_speed, 0)\n",
    "\n",
    "        return (\n",
    "            nearest.required_speed,\n",
    "            1 if nearest.lane_index > obs.ego_vehicle_state.lane_index else -1,\n",
    "        )"
   ]
  },
  {
   "cell_type": "code",
   "execution_count": 16,
   "metadata": {},
   "outputs": [],
   "source": [
    "from smarts.core.agent import AgentSpec\n",
    "from smarts.core.agent_interface import AgentInterface, AgentType\n",
    "from smarts.core.utils.episodes import episodes\n",
    "from smarts.env.wrappers.single_agent import SingleAgent\n",
    "\n",
    "AGENT_ID = \"SingleAgent\"\n",
    "\n",
    "def main(scenarios, sim_name, headless, num_episodes, seed, max_episode_steps=None):\n",
    "    agent_spec = AgentSpec(\n",
    "        interface=AgentInterface.from_type(\n",
    "            AgentType.LanerWithSpeed, max_episode_steps=max_episode_steps\n",
    "        ),\n",
    "        agent_builder=ChaseViaPointsAgent,\n",
    "    )\n",
    "\n",
    "    env = gym.make(\n",
    "        \"smarts.env:hiway-v0\",\n",
    "        scenarios=scenarios,\n",
    "        agent_specs={AGENT_ID: agent_spec},\n",
    "        sim_name=sim_name,\n",
    "        headless=headless,\n",
    "        visdom=False,\n",
    "        fixed_timestep_sec=0.1,\n",
    "        sumo_headless=True,\n",
    "        seed=seed,\n",
    "    )\n",
    "\n",
    "    # Wrap a single-agent env with SingleAgent wrapper to make `step` and `reset`\n",
    "    # output compliant with gym spaces.\n",
    "    env = SingleAgent(env)\n",
    "\n",
    "    for episode in episodes(n=num_episodes):\n",
    "        agent = agent_spec.build_agent()\n",
    "        observation = env.reset()\n",
    "        episode.record_scenario(env.scenario_log)\n",
    "\n",
    "        done = False\n",
    "        while not done:\n",
    "            agent_action = agent.act(observation)\n",
    "            observation, reward, done, info = env.step(agent_action)\n",
    "            episode.record_step(observation, reward, done, info)\n",
    "\n",
    "    env.close()"
   ]
  },
  {
   "cell_type": "markdown",
   "metadata": {},
   "source": [
    "Run the example"
   ]
  },
  {
   "cell_type": "code",
   "execution_count": 17,
   "metadata": {},
   "outputs": [
    {
     "name": "stdout",
     "output_type": "stream",
     "text": [
      "Traceback (most recent call last):\n",
      "  File \"/home/adai/workspaces/SMARTS/examples/intersection/.venv/bin/scl\", line 5, in <module>\n",
      "    from cli.cli import scl\n",
      "  File \"/home/adai/workspaces/SMARTS/examples/intersection/.venv/lib/python3.7/site-packages/cli/cli.py\", line 27, in <module>\n",
      "    from cli.studio import scenario_cli\n",
      "  File \"/home/adai/workspaces/SMARTS/examples/intersection/.venv/lib/python3.7/site-packages/cli/studio.py\", line 29, in <module>\n",
      "    from smarts.core.sumo_road_network import SumoRoadNetwork\n",
      "  File \"/home/adai/workspaces/SMARTS/examples/intersection/.venv/lib/python3.7/site-packages/smarts/core/sumo_road_network.py\", line 39, in <module>\n",
      "    from .sumo_lanepoints import LinkedLanePoint, SumoLanePoints\n",
      "  File \"/home/adai/workspaces/SMARTS/examples/intersection/.venv/lib/python3.7/site-packages/smarts/core/sumo_lanepoints.py\", line 43, in <module>\n",
      "    from smarts.core.utils.sumo import sumolib  # isort:skip\n",
      "  File \"/home/adai/workspaces/SMARTS/examples/intersection/.venv/lib/python3.7/site-packages/smarts/core/utils/sumo.py\", line 40, in <module>\n",
      "    import sumolib  # isort:skip\n",
      "ModuleNotFoundError: No module named 'sumolib'\n"
     ]
    }
   ],
   "source": [
    "!scl envision start -s /content/SMARTS/scenarios"
   ]
  },
  {
   "cell_type": "markdown",
   "metadata": {},
   "source": [
    "%%html\n",
    "<iframe src=\"https://localhost:8081\" width=\"100\" height=\"100\"></iframe>"
   ]
  },
  {
   "cell_type": "code",
   "execution_count": 18,
   "metadata": {},
   "outputs": [
    {
     "ename": "ModuleNotFoundError",
     "evalue": "No module named 'sumolib'",
     "output_type": "error",
     "traceback": [
      "\u001b[0;31m---------------------------------------------------------------------------\u001b[0m",
      "\u001b[0;31mModuleNotFoundError\u001b[0m                       Traceback (most recent call last)",
      "\u001b[0;32m/tmp/ipykernel_16947/2045386222.py\u001b[0m in \u001b[0;36m<module>\u001b[0;34m\u001b[0m\n\u001b[1;32m      4\u001b[0m     \u001b[0mheadless\u001b[0m\u001b[0;34m=\u001b[0m\u001b[0;32mTrue\u001b[0m\u001b[0;34m,\u001b[0m\u001b[0;34m\u001b[0m\u001b[0;34m\u001b[0m\u001b[0m\n\u001b[1;32m      5\u001b[0m     \u001b[0mnum_episodes\u001b[0m\u001b[0;34m=\u001b[0m\u001b[0;36m10\u001b[0m\u001b[0;34m,\u001b[0m\u001b[0;34m\u001b[0m\u001b[0;34m\u001b[0m\u001b[0m\n\u001b[0;32m----> 6\u001b[0;31m     \u001b[0mseed\u001b[0m\u001b[0;34m=\u001b[0m\u001b[0;36m42\u001b[0m\u001b[0;34m,\u001b[0m\u001b[0;34m\u001b[0m\u001b[0;34m\u001b[0m\u001b[0m\n\u001b[0m\u001b[1;32m      7\u001b[0m )\n",
      "\u001b[0;32m/tmp/ipykernel_16947/460689762.py\u001b[0m in \u001b[0;36mmain\u001b[0;34m(scenarios, sim_name, headless, num_episodes, seed, max_episode_steps)\u001b[0m\n\u001b[1;32m     23\u001b[0m         \u001b[0mfixed_timestep_sec\u001b[0m\u001b[0;34m=\u001b[0m\u001b[0;36m0.1\u001b[0m\u001b[0;34m,\u001b[0m\u001b[0;34m\u001b[0m\u001b[0;34m\u001b[0m\u001b[0m\n\u001b[1;32m     24\u001b[0m         \u001b[0msumo_headless\u001b[0m\u001b[0;34m=\u001b[0m\u001b[0;32mTrue\u001b[0m\u001b[0;34m,\u001b[0m\u001b[0;34m\u001b[0m\u001b[0;34m\u001b[0m\u001b[0m\n\u001b[0;32m---> 25\u001b[0;31m         \u001b[0mseed\u001b[0m\u001b[0;34m=\u001b[0m\u001b[0mseed\u001b[0m\u001b[0;34m,\u001b[0m\u001b[0;34m\u001b[0m\u001b[0;34m\u001b[0m\u001b[0m\n\u001b[0m\u001b[1;32m     26\u001b[0m     )\n\u001b[1;32m     27\u001b[0m \u001b[0;34m\u001b[0m\u001b[0m\n",
      "\u001b[0;32m~/workspaces/SMARTS/examples/intersection/.venv/lib/python3.7/site-packages/gym/envs/registration.py\u001b[0m in \u001b[0;36mmake\u001b[0;34m(id, **kwargs)\u001b[0m\n\u001b[1;32m    143\u001b[0m \u001b[0;34m\u001b[0m\u001b[0m\n\u001b[1;32m    144\u001b[0m \u001b[0;32mdef\u001b[0m \u001b[0mmake\u001b[0m\u001b[0;34m(\u001b[0m\u001b[0mid\u001b[0m\u001b[0;34m,\u001b[0m \u001b[0;34m**\u001b[0m\u001b[0mkwargs\u001b[0m\u001b[0;34m)\u001b[0m\u001b[0;34m:\u001b[0m\u001b[0;34m\u001b[0m\u001b[0;34m\u001b[0m\u001b[0m\n\u001b[0;32m--> 145\u001b[0;31m     \u001b[0;32mreturn\u001b[0m \u001b[0mregistry\u001b[0m\u001b[0;34m.\u001b[0m\u001b[0mmake\u001b[0m\u001b[0;34m(\u001b[0m\u001b[0mid\u001b[0m\u001b[0;34m,\u001b[0m \u001b[0;34m**\u001b[0m\u001b[0mkwargs\u001b[0m\u001b[0;34m)\u001b[0m\u001b[0;34m\u001b[0m\u001b[0;34m\u001b[0m\u001b[0m\n\u001b[0m\u001b[1;32m    146\u001b[0m \u001b[0;34m\u001b[0m\u001b[0m\n\u001b[1;32m    147\u001b[0m \u001b[0;32mdef\u001b[0m \u001b[0mspec\u001b[0m\u001b[0;34m(\u001b[0m\u001b[0mid\u001b[0m\u001b[0;34m)\u001b[0m\u001b[0;34m:\u001b[0m\u001b[0;34m\u001b[0m\u001b[0;34m\u001b[0m\u001b[0m\n",
      "\u001b[0;32m~/workspaces/SMARTS/examples/intersection/.venv/lib/python3.7/site-packages/gym/envs/registration.py\u001b[0m in \u001b[0;36mmake\u001b[0;34m(self, path, **kwargs)\u001b[0m\n\u001b[1;32m     88\u001b[0m             \u001b[0mlogger\u001b[0m\u001b[0;34m.\u001b[0m\u001b[0minfo\u001b[0m\u001b[0;34m(\u001b[0m\u001b[0;34m'Making new env: %s'\u001b[0m\u001b[0;34m,\u001b[0m \u001b[0mpath\u001b[0m\u001b[0;34m)\u001b[0m\u001b[0;34m\u001b[0m\u001b[0;34m\u001b[0m\u001b[0m\n\u001b[1;32m     89\u001b[0m         \u001b[0mspec\u001b[0m \u001b[0;34m=\u001b[0m \u001b[0mself\u001b[0m\u001b[0;34m.\u001b[0m\u001b[0mspec\u001b[0m\u001b[0;34m(\u001b[0m\u001b[0mpath\u001b[0m\u001b[0;34m)\u001b[0m\u001b[0;34m\u001b[0m\u001b[0;34m\u001b[0m\u001b[0m\n\u001b[0;32m---> 90\u001b[0;31m         \u001b[0menv\u001b[0m \u001b[0;34m=\u001b[0m \u001b[0mspec\u001b[0m\u001b[0;34m.\u001b[0m\u001b[0mmake\u001b[0m\u001b[0;34m(\u001b[0m\u001b[0;34m**\u001b[0m\u001b[0mkwargs\u001b[0m\u001b[0;34m)\u001b[0m\u001b[0;34m\u001b[0m\u001b[0;34m\u001b[0m\u001b[0m\n\u001b[0m\u001b[1;32m     91\u001b[0m         \u001b[0;31m# We used to have people override _reset/_step rather than\u001b[0m\u001b[0;34m\u001b[0m\u001b[0;34m\u001b[0m\u001b[0;34m\u001b[0m\u001b[0m\n\u001b[1;32m     92\u001b[0m         \u001b[0;31m# reset/step. Set _gym_disable_underscore_compat = True on\u001b[0m\u001b[0;34m\u001b[0m\u001b[0;34m\u001b[0m\u001b[0;34m\u001b[0m\u001b[0m\n",
      "\u001b[0;32m~/workspaces/SMARTS/examples/intersection/.venv/lib/python3.7/site-packages/gym/envs/registration.py\u001b[0m in \u001b[0;36mmake\u001b[0;34m(self, **kwargs)\u001b[0m\n\u001b[1;32m     57\u001b[0m             \u001b[0menv\u001b[0m \u001b[0;34m=\u001b[0m \u001b[0mself\u001b[0m\u001b[0;34m.\u001b[0m\u001b[0mentry_point\u001b[0m\u001b[0;34m(\u001b[0m\u001b[0;34m**\u001b[0m\u001b[0m_kwargs\u001b[0m\u001b[0;34m)\u001b[0m\u001b[0;34m\u001b[0m\u001b[0;34m\u001b[0m\u001b[0m\n\u001b[1;32m     58\u001b[0m         \u001b[0;32melse\u001b[0m\u001b[0;34m:\u001b[0m\u001b[0;34m\u001b[0m\u001b[0;34m\u001b[0m\u001b[0m\n\u001b[0;32m---> 59\u001b[0;31m             \u001b[0mcls\u001b[0m \u001b[0;34m=\u001b[0m \u001b[0mload\u001b[0m\u001b[0;34m(\u001b[0m\u001b[0mself\u001b[0m\u001b[0;34m.\u001b[0m\u001b[0mentry_point\u001b[0m\u001b[0;34m)\u001b[0m\u001b[0;34m\u001b[0m\u001b[0;34m\u001b[0m\u001b[0m\n\u001b[0m\u001b[1;32m     60\u001b[0m             \u001b[0menv\u001b[0m \u001b[0;34m=\u001b[0m \u001b[0mcls\u001b[0m\u001b[0;34m(\u001b[0m\u001b[0;34m**\u001b[0m\u001b[0m_kwargs\u001b[0m\u001b[0;34m)\u001b[0m\u001b[0;34m\u001b[0m\u001b[0;34m\u001b[0m\u001b[0m\n\u001b[1;32m     61\u001b[0m \u001b[0;34m\u001b[0m\u001b[0m\n",
      "\u001b[0;32m~/workspaces/SMARTS/examples/intersection/.venv/lib/python3.7/site-packages/gym/envs/registration.py\u001b[0m in \u001b[0;36mload\u001b[0;34m(name)\u001b[0m\n\u001b[1;32m     16\u001b[0m \u001b[0;32mdef\u001b[0m \u001b[0mload\u001b[0m\u001b[0;34m(\u001b[0m\u001b[0mname\u001b[0m\u001b[0;34m)\u001b[0m\u001b[0;34m:\u001b[0m\u001b[0;34m\u001b[0m\u001b[0;34m\u001b[0m\u001b[0m\n\u001b[1;32m     17\u001b[0m     \u001b[0mmod_name\u001b[0m\u001b[0;34m,\u001b[0m \u001b[0mattr_name\u001b[0m \u001b[0;34m=\u001b[0m \u001b[0mname\u001b[0m\u001b[0;34m.\u001b[0m\u001b[0msplit\u001b[0m\u001b[0;34m(\u001b[0m\u001b[0;34m\":\"\u001b[0m\u001b[0;34m)\u001b[0m\u001b[0;34m\u001b[0m\u001b[0;34m\u001b[0m\u001b[0m\n\u001b[0;32m---> 18\u001b[0;31m     \u001b[0mmod\u001b[0m \u001b[0;34m=\u001b[0m \u001b[0mimportlib\u001b[0m\u001b[0;34m.\u001b[0m\u001b[0mimport_module\u001b[0m\u001b[0;34m(\u001b[0m\u001b[0mmod_name\u001b[0m\u001b[0;34m)\u001b[0m\u001b[0;34m\u001b[0m\u001b[0;34m\u001b[0m\u001b[0m\n\u001b[0m\u001b[1;32m     19\u001b[0m     \u001b[0mfn\u001b[0m \u001b[0;34m=\u001b[0m \u001b[0mgetattr\u001b[0m\u001b[0;34m(\u001b[0m\u001b[0mmod\u001b[0m\u001b[0;34m,\u001b[0m \u001b[0mattr_name\u001b[0m\u001b[0;34m)\u001b[0m\u001b[0;34m\u001b[0m\u001b[0;34m\u001b[0m\u001b[0m\n\u001b[1;32m     20\u001b[0m     \u001b[0;32mreturn\u001b[0m \u001b[0mfn\u001b[0m\u001b[0;34m\u001b[0m\u001b[0;34m\u001b[0m\u001b[0m\n",
      "\u001b[0;32m/usr/lib/python3.7/importlib/__init__.py\u001b[0m in \u001b[0;36mimport_module\u001b[0;34m(name, package)\u001b[0m\n\u001b[1;32m    125\u001b[0m                 \u001b[0;32mbreak\u001b[0m\u001b[0;34m\u001b[0m\u001b[0;34m\u001b[0m\u001b[0m\n\u001b[1;32m    126\u001b[0m             \u001b[0mlevel\u001b[0m \u001b[0;34m+=\u001b[0m \u001b[0;36m1\u001b[0m\u001b[0;34m\u001b[0m\u001b[0;34m\u001b[0m\u001b[0m\n\u001b[0;32m--> 127\u001b[0;31m     \u001b[0;32mreturn\u001b[0m \u001b[0m_bootstrap\u001b[0m\u001b[0;34m.\u001b[0m\u001b[0m_gcd_import\u001b[0m\u001b[0;34m(\u001b[0m\u001b[0mname\u001b[0m\u001b[0;34m[\u001b[0m\u001b[0mlevel\u001b[0m\u001b[0;34m:\u001b[0m\u001b[0;34m]\u001b[0m\u001b[0;34m,\u001b[0m \u001b[0mpackage\u001b[0m\u001b[0;34m,\u001b[0m \u001b[0mlevel\u001b[0m\u001b[0;34m)\u001b[0m\u001b[0;34m\u001b[0m\u001b[0;34m\u001b[0m\u001b[0m\n\u001b[0m\u001b[1;32m    128\u001b[0m \u001b[0;34m\u001b[0m\u001b[0m\n\u001b[1;32m    129\u001b[0m \u001b[0;34m\u001b[0m\u001b[0m\n",
      "\u001b[0;32m/usr/lib/python3.7/importlib/_bootstrap.py\u001b[0m in \u001b[0;36m_gcd_import\u001b[0;34m(name, package, level)\u001b[0m\n",
      "\u001b[0;32m/usr/lib/python3.7/importlib/_bootstrap.py\u001b[0m in \u001b[0;36m_find_and_load\u001b[0;34m(name, import_)\u001b[0m\n",
      "\u001b[0;32m/usr/lib/python3.7/importlib/_bootstrap.py\u001b[0m in \u001b[0;36m_find_and_load_unlocked\u001b[0;34m(name, import_)\u001b[0m\n",
      "\u001b[0;32m/usr/lib/python3.7/importlib/_bootstrap.py\u001b[0m in \u001b[0;36m_load_unlocked\u001b[0;34m(spec)\u001b[0m\n",
      "\u001b[0;32m/usr/lib/python3.7/importlib/_bootstrap_external.py\u001b[0m in \u001b[0;36mexec_module\u001b[0;34m(self, module)\u001b[0m\n",
      "\u001b[0;32m/usr/lib/python3.7/importlib/_bootstrap.py\u001b[0m in \u001b[0;36m_call_with_frames_removed\u001b[0;34m(f, *args, **kwds)\u001b[0m\n",
      "\u001b[0;32m~/workspaces/SMARTS/examples/intersection/.venv/lib/python3.7/site-packages/smarts/env/hiway_env.py\u001b[0m in \u001b[0;36m<module>\u001b[0;34m\u001b[0m\n\u001b[1;32m     30\u001b[0m \u001b[0;32mfrom\u001b[0m \u001b[0msmarts\u001b[0m\u001b[0;34m.\u001b[0m\u001b[0mcore\u001b[0m\u001b[0;34m.\u001b[0m\u001b[0mscenario\u001b[0m \u001b[0;32mimport\u001b[0m \u001b[0mScenario\u001b[0m\u001b[0;34m\u001b[0m\u001b[0;34m\u001b[0m\u001b[0m\n\u001b[1;32m     31\u001b[0m \u001b[0;32mfrom\u001b[0m \u001b[0msmarts\u001b[0m\u001b[0;34m.\u001b[0m\u001b[0mcore\u001b[0m\u001b[0;34m.\u001b[0m\u001b[0msmarts\u001b[0m \u001b[0;32mimport\u001b[0m \u001b[0mSMARTS\u001b[0m\u001b[0;34m\u001b[0m\u001b[0;34m\u001b[0m\u001b[0m\n\u001b[0;32m---> 32\u001b[0;31m \u001b[0;32mfrom\u001b[0m \u001b[0msmarts\u001b[0m\u001b[0;34m.\u001b[0m\u001b[0mcore\u001b[0m\u001b[0;34m.\u001b[0m\u001b[0msumo_traffic_simulation\u001b[0m \u001b[0;32mimport\u001b[0m \u001b[0mSumoTrafficSimulation\u001b[0m\u001b[0;34m\u001b[0m\u001b[0;34m\u001b[0m\u001b[0m\n\u001b[0m\u001b[1;32m     33\u001b[0m \u001b[0;32mfrom\u001b[0m \u001b[0msmarts\u001b[0m\u001b[0;34m.\u001b[0m\u001b[0mcore\u001b[0m\u001b[0;34m.\u001b[0m\u001b[0mutils\u001b[0m\u001b[0;34m.\u001b[0m\u001b[0mlogging\u001b[0m \u001b[0;32mimport\u001b[0m \u001b[0mtimeit\u001b[0m\u001b[0;34m\u001b[0m\u001b[0;34m\u001b[0m\u001b[0m\n\u001b[1;32m     34\u001b[0m \u001b[0;32mfrom\u001b[0m \u001b[0msmarts\u001b[0m\u001b[0;34m.\u001b[0m\u001b[0mcore\u001b[0m\u001b[0;34m.\u001b[0m\u001b[0mutils\u001b[0m\u001b[0;34m.\u001b[0m\u001b[0mvisdom_client\u001b[0m \u001b[0;32mimport\u001b[0m \u001b[0mVisdomClient\u001b[0m\u001b[0;34m\u001b[0m\u001b[0;34m\u001b[0m\u001b[0m\n",
      "\u001b[0;32m~/workspaces/SMARTS/examples/intersection/.venv/lib/python3.7/site-packages/smarts/core/sumo_traffic_simulation.py\u001b[0m in \u001b[0;36m<module>\u001b[0;34m\u001b[0m\n\u001b[1;32m     35\u001b[0m \u001b[0;32mfrom\u001b[0m \u001b[0msmarts\u001b[0m\u001b[0;34m.\u001b[0m\u001b[0mcore\u001b[0m\u001b[0;34m.\u001b[0m\u001b[0mcoordinates\u001b[0m \u001b[0;32mimport\u001b[0m \u001b[0mDimensions\u001b[0m\u001b[0;34m,\u001b[0m \u001b[0mHeading\u001b[0m\u001b[0;34m,\u001b[0m \u001b[0mPose\u001b[0m\u001b[0;34m\u001b[0m\u001b[0;34m\u001b[0m\u001b[0m\n\u001b[1;32m     36\u001b[0m \u001b[0;32mfrom\u001b[0m \u001b[0msmarts\u001b[0m\u001b[0;34m.\u001b[0m\u001b[0mcore\u001b[0m\u001b[0;34m.\u001b[0m\u001b[0mprovider\u001b[0m \u001b[0;32mimport\u001b[0m \u001b[0mProvider\u001b[0m\u001b[0;34m,\u001b[0m \u001b[0mProviderState\u001b[0m\u001b[0;34m\u001b[0m\u001b[0;34m\u001b[0m\u001b[0m\n\u001b[0;32m---> 37\u001b[0;31m \u001b[0;32mfrom\u001b[0m \u001b[0msmarts\u001b[0m\u001b[0;34m.\u001b[0m\u001b[0mcore\u001b[0m\u001b[0;34m.\u001b[0m\u001b[0msumo_road_network\u001b[0m \u001b[0;32mimport\u001b[0m \u001b[0mSumoRoadNetwork\u001b[0m\u001b[0;34m\u001b[0m\u001b[0;34m\u001b[0m\u001b[0m\n\u001b[0m\u001b[1;32m     38\u001b[0m \u001b[0;32mfrom\u001b[0m \u001b[0msmarts\u001b[0m\u001b[0;34m.\u001b[0m\u001b[0mcore\u001b[0m\u001b[0;34m.\u001b[0m\u001b[0mutils\u001b[0m \u001b[0;32mimport\u001b[0m \u001b[0mnetworking\u001b[0m\u001b[0;34m\u001b[0m\u001b[0;34m\u001b[0m\u001b[0m\n\u001b[1;32m     39\u001b[0m \u001b[0;32mfrom\u001b[0m \u001b[0msmarts\u001b[0m\u001b[0;34m.\u001b[0m\u001b[0mcore\u001b[0m\u001b[0;34m.\u001b[0m\u001b[0mutils\u001b[0m\u001b[0;34m.\u001b[0m\u001b[0mlogging\u001b[0m \u001b[0;32mimport\u001b[0m \u001b[0msuppress_output\u001b[0m\u001b[0;34m\u001b[0m\u001b[0;34m\u001b[0m\u001b[0m\n",
      "\u001b[0;32m~/workspaces/SMARTS/examples/intersection/.venv/lib/python3.7/site-packages/smarts/core/sumo_road_network.py\u001b[0m in \u001b[0;36m<module>\u001b[0;34m\u001b[0m\n\u001b[1;32m     37\u001b[0m \u001b[0;32mfrom\u001b[0m \u001b[0;34m.\u001b[0m\u001b[0mcoordinates\u001b[0m \u001b[0;32mimport\u001b[0m \u001b[0mBoundingBox\u001b[0m\u001b[0;34m,\u001b[0m \u001b[0mHeading\u001b[0m\u001b[0;34m,\u001b[0m \u001b[0mPoint\u001b[0m\u001b[0;34m,\u001b[0m \u001b[0mPose\u001b[0m\u001b[0;34m,\u001b[0m \u001b[0mRefLinePoint\u001b[0m\u001b[0;34m\u001b[0m\u001b[0;34m\u001b[0m\u001b[0m\n\u001b[1;32m     38\u001b[0m \u001b[0;32mfrom\u001b[0m \u001b[0;34m.\u001b[0m\u001b[0mroad_map\u001b[0m \u001b[0;32mimport\u001b[0m \u001b[0mRoadMap\u001b[0m\u001b[0;34m,\u001b[0m \u001b[0mWaypoint\u001b[0m\u001b[0;34m\u001b[0m\u001b[0;34m\u001b[0m\u001b[0m\n\u001b[0;32m---> 39\u001b[0;31m \u001b[0;32mfrom\u001b[0m \u001b[0;34m.\u001b[0m\u001b[0msumo_lanepoints\u001b[0m \u001b[0;32mimport\u001b[0m \u001b[0mLinkedLanePoint\u001b[0m\u001b[0;34m,\u001b[0m \u001b[0mSumoLanePoints\u001b[0m\u001b[0;34m\u001b[0m\u001b[0;34m\u001b[0m\u001b[0m\n\u001b[0m\u001b[1;32m     40\u001b[0m \u001b[0;32mfrom\u001b[0m \u001b[0;34m.\u001b[0m\u001b[0mutils\u001b[0m\u001b[0;34m.\u001b[0m\u001b[0mgeometry\u001b[0m \u001b[0;32mimport\u001b[0m \u001b[0mbuffered_shape\u001b[0m\u001b[0;34m\u001b[0m\u001b[0;34m\u001b[0m\u001b[0m\n\u001b[1;32m     41\u001b[0m \u001b[0;32mfrom\u001b[0m \u001b[0;34m.\u001b[0m\u001b[0mutils\u001b[0m\u001b[0;34m.\u001b[0m\u001b[0mmath\u001b[0m \u001b[0;32mimport\u001b[0m \u001b[0minplace_unwrap\u001b[0m\u001b[0;34m,\u001b[0m \u001b[0mradians_to_vec\u001b[0m\u001b[0;34m,\u001b[0m \u001b[0mvec_2d\u001b[0m\u001b[0;34m\u001b[0m\u001b[0;34m\u001b[0m\u001b[0m\n",
      "\u001b[0;32m~/workspaces/SMARTS/examples/intersection/.venv/lib/python3.7/site-packages/smarts/core/sumo_lanepoints.py\u001b[0m in \u001b[0;36m<module>\u001b[0;34m\u001b[0m\n\u001b[1;32m     41\u001b[0m         \u001b[0;32mfrom\u001b[0m \u001b[0msklearn\u001b[0m\u001b[0;34m.\u001b[0m\u001b[0mneighbors\u001b[0m \u001b[0;32mimport\u001b[0m \u001b[0mKDTree\u001b[0m\u001b[0;34m\u001b[0m\u001b[0;34m\u001b[0m\u001b[0m\n\u001b[1;32m     42\u001b[0m \u001b[0;34m\u001b[0m\u001b[0m\n\u001b[0;32m---> 43\u001b[0;31m \u001b[0;32mfrom\u001b[0m \u001b[0msmarts\u001b[0m\u001b[0;34m.\u001b[0m\u001b[0mcore\u001b[0m\u001b[0;34m.\u001b[0m\u001b[0mutils\u001b[0m\u001b[0;34m.\u001b[0m\u001b[0msumo\u001b[0m \u001b[0;32mimport\u001b[0m \u001b[0msumolib\u001b[0m  \u001b[0;31m# isort:skip\u001b[0m\u001b[0;34m\u001b[0m\u001b[0;34m\u001b[0m\u001b[0m\n\u001b[0m\u001b[1;32m     44\u001b[0m \u001b[0;32mfrom\u001b[0m \u001b[0msumolib\u001b[0m\u001b[0;34m.\u001b[0m\u001b[0mnet\u001b[0m\u001b[0;34m.\u001b[0m\u001b[0medge\u001b[0m \u001b[0;32mimport\u001b[0m \u001b[0mEdge\u001b[0m  \u001b[0;31m# isort:skip\u001b[0m\u001b[0;34m\u001b[0m\u001b[0;34m\u001b[0m\u001b[0m\n\u001b[1;32m     45\u001b[0m \u001b[0;32mfrom\u001b[0m \u001b[0msumolib\u001b[0m\u001b[0;34m.\u001b[0m\u001b[0mnet\u001b[0m\u001b[0;34m.\u001b[0m\u001b[0mlane\u001b[0m \u001b[0;32mimport\u001b[0m \u001b[0mLane\u001b[0m  \u001b[0;31m# isort:skip\u001b[0m\u001b[0;34m\u001b[0m\u001b[0;34m\u001b[0m\u001b[0m\n",
      "\u001b[0;32m~/workspaces/SMARTS/examples/intersection/.venv/lib/python3.7/site-packages/smarts/core/utils/sumo.py\u001b[0m in \u001b[0;36m<module>\u001b[0;34m\u001b[0m\n\u001b[1;32m     38\u001b[0m \u001b[0mSUMO_PATH\u001b[0m \u001b[0;34m=\u001b[0m \u001b[0msumo_path\u001b[0m\u001b[0;34m\u001b[0m\u001b[0;34m\u001b[0m\u001b[0m\n\u001b[1;32m     39\u001b[0m \u001b[0;34m\u001b[0m\u001b[0m\n\u001b[0;32m---> 40\u001b[0;31m \u001b[0;32mimport\u001b[0m \u001b[0msumolib\u001b[0m  \u001b[0;31m# isort:skip\u001b[0m\u001b[0;34m\u001b[0m\u001b[0;34m\u001b[0m\u001b[0m\n\u001b[0m\u001b[1;32m     41\u001b[0m \u001b[0;32mimport\u001b[0m \u001b[0mtraci\u001b[0m  \u001b[0;31m# isort:skip\u001b[0m\u001b[0;34m\u001b[0m\u001b[0;34m\u001b[0m\u001b[0m\n",
      "\u001b[0;31mModuleNotFoundError\u001b[0m: No module named 'sumolib'"
     ]
    }
   ],
   "source": [
    "main(\n",
    "    scenarios=\"/content/SMARTS/scenarios/loop\",\n",
    "    sim_name=\"Single agent\",\n",
    "    headless=True,\n",
    "    num_episodes=10,\n",
    "    seed=42,\n",
    ")"
   ]
  },
  {
   "cell_type": "markdown",
   "metadata": {},
   "source": []
  }
 ],
 "metadata": {
  "interpreter": {
   "hash": "fd69f43f58546b570e94fd7eba7b65e6bcc7a5bbc4eab0408017d18902915d69"
  },
  "kernelspec": {
   "display_name": "Python 3.7.5 64-bit",
   "language": "python",
   "name": "python3"
  },
  "language_info": {
   "codemirror_mode": {
    "name": "ipython",
    "version": 3
   },
   "file_extension": ".py",
   "mimetype": "text/x-python",
   "name": "python",
   "nbconvert_exporter": "python",
   "pygments_lexer": "ipython3",
   "version": "3.7.5"
  },
  "orig_nbformat": 4
 },
 "nbformat": 4,
 "nbformat_minor": 2
}
